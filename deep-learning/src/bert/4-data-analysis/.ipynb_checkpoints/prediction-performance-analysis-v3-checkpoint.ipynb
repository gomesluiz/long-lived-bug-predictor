{
 "cells": [
  {
   "cell_type": "markdown",
   "metadata": {},
   "source": [
    "# Performance analysis of BERT for feature extraction"
   ]
  },
  {
   "cell_type": "markdown",
   "metadata": {},
   "source": [
    "## Eclipse project"
   ]
  },
  {
   "cell_type": "markdown",
   "metadata": {},
   "source": [
    "| Parameter     | Value         |\n",
    "| ------------- |:-------------:|\n",
    "| Model         | bert-base-uncase |\n",
    "| Tokens        | 128     |\n",
    "| Threshold     | median      |\n"
   ]
  },
  {
   "cell_type": "code",
   "execution_count": 1,
   "metadata": {},
   "outputs": [
    {
     "data": {
      "text/html": [
       "<style type=\"text/css\">\n",
       "    table.dataframe td, table.dataframe th {\n",
       "        border: 1px solid lightgray;\n",
       "    }\n",
       "</style>\n"
      ],
      "text/plain": [
       "<IPython.core.display.HTML object>"
      ]
     },
     "metadata": {},
     "output_type": "display_data"
    }
   ],
   "source": [
    "%%HTML\n",
    "<style type=\"text/css\">\n",
    "    table.dataframe td, table.dataframe th {\n",
    "        border: 1px solid lightgray;\n",
    "    }\n",
    "</style>"
   ]
  },
  {
   "cell_type": "code",
   "execution_count": 2,
   "metadata": {},
   "outputs": [
    {
     "name": "stdout",
     "output_type": "stream",
     "text": [
      "setup completed\n"
     ]
    }
   ],
   "source": [
    "import warnings\n",
    "warnings.filterwarnings(\"ignore\",category=UserWarning)\n",
    "\n",
    "import pandas as pd\n",
    "\n",
    "import plot_helper  as ph\n",
    "import stats_helper as sh\n",
    "%matplotlib inline\n",
    "\n",
    "projects    = ['eclipse', 'freedesktop', 'gnome', 'gcc']\n",
    "classifiers = {'knn':0, 'nb':1, 'nn':2, 'rf':3, 'svm':4}\n",
    "print('setup completed')\n"
   ]
  },
  {
   "cell_type": "markdown",
   "metadata": {},
   "source": [
    "## Performance analysis in training"
   ]
  },
  {
   "cell_type": "markdown",
   "metadata": {},
   "source": [
    "## BERT"
   ]
  },
  {
   "cell_type": "markdown",
   "metadata": {},
   "source": [
    "### Statistical measures"
   ]
  },
  {
   "cell_type": "code",
   "execution_count": 3,
   "metadata": {},
   "outputs": [
    {
     "data": {
      "image/png": "[encoded data removed]",
      "text/plain": [
       "<Figure size 576x288 with 1 Axes>"
      ]
     },
     "metadata": {
      "needs_background": "light"
     },
     "output_type": "display_data"
    }
   ],
   "source": [
    "bert_train_scores = pd.read_csv('../../../data/metrics/feature-extraction/20210221_eclipse_feature_extraction_bert_train_scores.csv')\n",
    "_=ph.plot_box(bert_train_scores)"
   ]
  },
  {
   "cell_type": "markdown",
   "metadata": {},
   "source": [
    "### Statistical test"
   ]
  },
  {
   "cell_type": "code",
   "execution_count": 4,
   "metadata": {},
   "outputs": [
    {
     "data": {
      "text/plain": [
       "'Statistical test between classifiers in BERT:'"
      ]
     },
     "metadata": {},
     "output_type": "display_data"
    },
    {
     "data": {
      "text/html": [
       "<div>\n",
       "<style scoped>\n",
       "    .dataframe tbody tr th:only-of-type {\n",
       "        vertical-align: middle;\n",
       "    }\n",
       "\n",
       "    .dataframe tbody tr th {\n",
       "        vertical-align: top;\n",
       "    }\n",
       "\n",
       "    .dataframe thead th {\n",
       "        text-align: right;\n",
       "    }\n",
       "</style>\n",
       "<table border=\"1\" class=\"dataframe\">\n",
       "  <thead>\n",
       "    <tr style=\"text-align: right;\">\n",
       "      <th>classifier2</th>\n",
       "      <th>knn</th>\n",
       "      <th>nb</th>\n",
       "      <th>nn</th>\n",
       "      <th>rf</th>\n",
       "      <th>svm</th>\n",
       "    </tr>\n",
       "    <tr>\n",
       "      <th>classifier1</th>\n",
       "      <th></th>\n",
       "      <th></th>\n",
       "      <th></th>\n",
       "      <th></th>\n",
       "      <th></th>\n",
       "    </tr>\n",
       "  </thead>\n",
       "  <tbody>\n",
       "    <tr>\n",
       "      <th>knn</th>\n",
       "      <td>$-$</td>\n",
       "      <td>$\\uparrow$</td>\n",
       "      <td>$\\leftarrow$</td>\n",
       "      <td>$\\uparrow$</td>\n",
       "      <td>$\\uparrow$</td>\n",
       "    </tr>\n",
       "    <tr>\n",
       "      <th>nb</th>\n",
       "      <td>$\\leftarrow$</td>\n",
       "      <td>$-$</td>\n",
       "      <td>$\\leftarrow$</td>\n",
       "      <td>$-$</td>\n",
       "      <td>$-$</td>\n",
       "    </tr>\n",
       "    <tr>\n",
       "      <th>nn</th>\n",
       "      <td>$\\uparrow$</td>\n",
       "      <td>$\\uparrow$</td>\n",
       "      <td>$-$</td>\n",
       "      <td>$\\uparrow$</td>\n",
       "      <td>$\\uparrow$</td>\n",
       "    </tr>\n",
       "    <tr>\n",
       "      <th>rf</th>\n",
       "      <td>$\\leftarrow$</td>\n",
       "      <td>$-$</td>\n",
       "      <td>$\\leftarrow$</td>\n",
       "      <td>$-$</td>\n",
       "      <td>$-$</td>\n",
       "    </tr>\n",
       "    <tr>\n",
       "      <th>svm</th>\n",
       "      <td>$\\leftarrow$</td>\n",
       "      <td>$-$</td>\n",
       "      <td>$\\leftarrow$</td>\n",
       "      <td>$-$</td>\n",
       "      <td>$-$</td>\n",
       "    </tr>\n",
       "  </tbody>\n",
       "</table>\n",
       "</div>"
      ],
      "text/plain": [
       "classifier2           knn          nb            nn          rf         svm\n",
       "classifier1                                                                \n",
       "knn                   $-$  $\\uparrow$  $\\leftarrow$  $\\uparrow$  $\\uparrow$\n",
       "nb           $\\leftarrow$         $-$  $\\leftarrow$         $-$         $-$\n",
       "nn             $\\uparrow$  $\\uparrow$           $-$  $\\uparrow$  $\\uparrow$\n",
       "rf           $\\leftarrow$         $-$  $\\leftarrow$         $-$         $-$\n",
       "svm          $\\leftarrow$         $-$  $\\leftarrow$         $-$         $-$"
      ]
     },
     "metadata": {},
     "output_type": "display_data"
    }
   ],
   "source": [
    "bert_train_scores_pivoted = pd.pivot_table (bert_train_scores, index='fold', columns='classifier', values=['balanced_acc'])\n",
    "statistical_test_results = sh.make_test(bert_train_scores_pivoted)\n",
    "statistical_test_results_sliced = statistical_test_results[['classifier1', 'classifier2', 'direction']]\n",
    "statistical_test_results_pivoted = statistical_test_results_sliced.pivot(index='classifier1', columns='classifier2', values='direction')\n",
    "display('Statistical test between classifiers in BERT:')\n",
    "display(statistical_test_results_pivoted)"
   ]
  },
  {
   "cell_type": "markdown",
   "metadata": {},
   "source": [
    "### BERT vs. TF-IDF"
   ]
  },
  {
   "cell_type": "markdown",
   "metadata": {},
   "source": [
    "### Statistical test"
   ]
  },
  {
   "cell_type": "code",
   "execution_count": 5,
   "metadata": {},
   "outputs": [],
   "source": [
    "tfidf_train_scores = pd.read_csv('../../../data/metrics/feature-extraction/20210221_eclipse_feature_extraction_tfidf_train_scores.csv')\n",
    "best_tfidf_train_scores = tfidf_train_scores.copy()\n",
    "best_tfidf_train_scores.loc[:,['classifier']] = 'tf-idf' + ':' + best_tfidf_train_scores['classifier']\n",
    "best_bert_train_scores = bert_train_scores.copy()\n",
    "best_bert_train_scores.loc[:,['classifier']] = 'bert' + ':' + best_bert_train_scores['classifier']\n",
    "all_train_scores = pd.concat([best_bert_train_scores, best_tfidf_train_scores])"
   ]
  },
  {
   "cell_type": "code",
   "execution_count": 6,
   "metadata": {},
   "outputs": [
    {
     "data": {
      "text/html": [
       "<div>\n",
       "<style scoped>\n",
       "    .dataframe tbody tr th:only-of-type {\n",
       "        vertical-align: middle;\n",
       "    }\n",
       "\n",
       "    .dataframe tbody tr th {\n",
       "        vertical-align: top;\n",
       "    }\n",
       "\n",
       "    .dataframe thead th {\n",
       "        text-align: right;\n",
       "    }\n",
       "</style>\n",
       "<table border=\"1\" class=\"dataframe\">\n",
       "  <thead>\n",
       "    <tr style=\"text-align: right;\">\n",
       "      <th></th>\n",
       "      <th>project</th>\n",
       "      <th>classifier</th>\n",
       "      <th>fold</th>\n",
       "      <th>balanced_acc</th>\n",
       "    </tr>\n",
       "  </thead>\n",
       "  <tbody>\n",
       "    <tr>\n",
       "      <th>0</th>\n",
       "      <td>eclipse</td>\n",
       "      <td>knn</td>\n",
       "      <td>0</td>\n",
       "      <td>0.507959</td>\n",
       "    </tr>\n",
       "    <tr>\n",
       "      <th>1</th>\n",
       "      <td>eclipse</td>\n",
       "      <td>knn</td>\n",
       "      <td>1</td>\n",
       "      <td>0.518456</td>\n",
       "    </tr>\n",
       "    <tr>\n",
       "      <th>2</th>\n",
       "      <td>eclipse</td>\n",
       "      <td>knn</td>\n",
       "      <td>2</td>\n",
       "      <td>0.516659</td>\n",
       "    </tr>\n",
       "    <tr>\n",
       "      <th>3</th>\n",
       "      <td>eclipse</td>\n",
       "      <td>knn</td>\n",
       "      <td>3</td>\n",
       "      <td>0.515669</td>\n",
       "    </tr>\n",
       "    <tr>\n",
       "      <th>4</th>\n",
       "      <td>eclipse</td>\n",
       "      <td>knn</td>\n",
       "      <td>4</td>\n",
       "      <td>0.530587</td>\n",
       "    </tr>\n",
       "    <tr>\n",
       "      <th>...</th>\n",
       "      <td>...</td>\n",
       "      <td>...</td>\n",
       "      <td>...</td>\n",
       "      <td>...</td>\n",
       "    </tr>\n",
       "    <tr>\n",
       "      <th>245</th>\n",
       "      <td>eclipse</td>\n",
       "      <td>nn</td>\n",
       "      <td>45</td>\n",
       "      <td>0.511342</td>\n",
       "    </tr>\n",
       "    <tr>\n",
       "      <th>246</th>\n",
       "      <td>eclipse</td>\n",
       "      <td>nn</td>\n",
       "      <td>46</td>\n",
       "      <td>0.562236</td>\n",
       "    </tr>\n",
       "    <tr>\n",
       "      <th>247</th>\n",
       "      <td>eclipse</td>\n",
       "      <td>nn</td>\n",
       "      <td>47</td>\n",
       "      <td>0.518723</td>\n",
       "    </tr>\n",
       "    <tr>\n",
       "      <th>248</th>\n",
       "      <td>eclipse</td>\n",
       "      <td>nn</td>\n",
       "      <td>48</td>\n",
       "      <td>0.512683</td>\n",
       "    </tr>\n",
       "    <tr>\n",
       "      <th>249</th>\n",
       "      <td>eclipse</td>\n",
       "      <td>nn</td>\n",
       "      <td>49</td>\n",
       "      <td>0.519947</td>\n",
       "    </tr>\n",
       "  </tbody>\n",
       "</table>\n",
       "<p>250 rows × 4 columns</p>\n",
       "</div>"
      ],
      "text/plain": [
       "     project classifier  fold  balanced_acc\n",
       "0    eclipse        knn     0      0.507959\n",
       "1    eclipse        knn     1      0.518456\n",
       "2    eclipse        knn     2      0.516659\n",
       "3    eclipse        knn     3      0.515669\n",
       "4    eclipse        knn     4      0.530587\n",
       "..       ...        ...   ...           ...\n",
       "245  eclipse         nn    45      0.511342\n",
       "246  eclipse         nn    46      0.562236\n",
       "247  eclipse         nn    47      0.518723\n",
       "248  eclipse         nn    48      0.512683\n",
       "249  eclipse         nn    49      0.519947\n",
       "\n",
       "[250 rows x 4 columns]"
      ]
     },
     "execution_count": 6,
     "metadata": {},
     "output_type": "execute_result"
    }
   ],
   "source": [
    "tfidf_train_scores"
   ]
  },
  {
   "cell_type": "code",
   "execution_count": 7,
   "metadata": {},
   "outputs": [
    {
     "data": {
      "text/plain": [
       "'Statistical test RF in BERT versus in TF-IDF'"
      ]
     },
     "metadata": {},
     "output_type": "display_data"
    },
    {
     "data": {
      "text/html": [
       "<div>\n",
       "<style scoped>\n",
       "    .dataframe tbody tr th:only-of-type {\n",
       "        vertical-align: middle;\n",
       "    }\n",
       "\n",
       "    .dataframe tbody tr th {\n",
       "        vertical-align: top;\n",
       "    }\n",
       "\n",
       "    .dataframe thead th {\n",
       "        text-align: right;\n",
       "    }\n",
       "</style>\n",
       "<table border=\"1\" class=\"dataframe\">\n",
       "  <thead>\n",
       "    <tr style=\"text-align: right;\">\n",
       "      <th>classifier2</th>\n",
       "      <th>bert:knn</th>\n",
       "      <th>bert:nb</th>\n",
       "      <th>bert:nn</th>\n",
       "      <th>bert:rf</th>\n",
       "      <th>bert:svm</th>\n",
       "      <th>tf-idf:knn</th>\n",
       "      <th>tf-idf:nb</th>\n",
       "      <th>tf-idf:nn</th>\n",
       "      <th>tf-idf:rf</th>\n",
       "      <th>tf-idf:svm</th>\n",
       "    </tr>\n",
       "    <tr>\n",
       "      <th>classifier1</th>\n",
       "      <th></th>\n",
       "      <th></th>\n",
       "      <th></th>\n",
       "      <th></th>\n",
       "      <th></th>\n",
       "      <th></th>\n",
       "      <th></th>\n",
       "      <th></th>\n",
       "      <th></th>\n",
       "      <th></th>\n",
       "    </tr>\n",
       "  </thead>\n",
       "  <tbody>\n",
       "    <tr>\n",
       "      <th>bert:knn</th>\n",
       "      <td>$-$</td>\n",
       "      <td>$\\uparrow$</td>\n",
       "      <td>$\\leftarrow$</td>\n",
       "      <td>$\\uparrow$</td>\n",
       "      <td>$\\uparrow$</td>\n",
       "      <td>$\\leftarrow$</td>\n",
       "      <td>$\\leftarrow$</td>\n",
       "      <td>$\\leftarrow$</td>\n",
       "      <td>$-$</td>\n",
       "      <td>$-$</td>\n",
       "    </tr>\n",
       "    <tr>\n",
       "      <th>bert:nb</th>\n",
       "      <td>$\\leftarrow$</td>\n",
       "      <td>$-$</td>\n",
       "      <td>$\\leftarrow$</td>\n",
       "      <td>$-$</td>\n",
       "      <td>$-$</td>\n",
       "      <td>$\\leftarrow$</td>\n",
       "      <td>$\\leftarrow$</td>\n",
       "      <td>$\\leftarrow$</td>\n",
       "      <td>$\\leftarrow$</td>\n",
       "      <td>$\\leftarrow$</td>\n",
       "    </tr>\n",
       "    <tr>\n",
       "      <th>bert:nn</th>\n",
       "      <td>$\\uparrow$</td>\n",
       "      <td>$\\uparrow$</td>\n",
       "      <td>$-$</td>\n",
       "      <td>$\\uparrow$</td>\n",
       "      <td>$\\uparrow$</td>\n",
       "      <td>$\\leftarrow$</td>\n",
       "      <td>$-$</td>\n",
       "      <td>$\\leftarrow$</td>\n",
       "      <td>$\\uparrow$</td>\n",
       "      <td>$\\uparrow$</td>\n",
       "    </tr>\n",
       "    <tr>\n",
       "      <th>bert:rf</th>\n",
       "      <td>$\\leftarrow$</td>\n",
       "      <td>$-$</td>\n",
       "      <td>$\\leftarrow$</td>\n",
       "      <td>$-$</td>\n",
       "      <td>$-$</td>\n",
       "      <td>$\\leftarrow$</td>\n",
       "      <td>$\\leftarrow$</td>\n",
       "      <td>$\\leftarrow$</td>\n",
       "      <td>$\\leftarrow$</td>\n",
       "      <td>$\\leftarrow$</td>\n",
       "    </tr>\n",
       "    <tr>\n",
       "      <th>bert:svm</th>\n",
       "      <td>$\\leftarrow$</td>\n",
       "      <td>$-$</td>\n",
       "      <td>$\\leftarrow$</td>\n",
       "      <td>$-$</td>\n",
       "      <td>$-$</td>\n",
       "      <td>$\\leftarrow$</td>\n",
       "      <td>$\\leftarrow$</td>\n",
       "      <td>$\\leftarrow$</td>\n",
       "      <td>$\\leftarrow$</td>\n",
       "      <td>$\\leftarrow$</td>\n",
       "    </tr>\n",
       "    <tr>\n",
       "      <th>tf-idf:knn</th>\n",
       "      <td>$\\uparrow$</td>\n",
       "      <td>$\\uparrow$</td>\n",
       "      <td>$\\uparrow$</td>\n",
       "      <td>$\\uparrow$</td>\n",
       "      <td>$\\uparrow$</td>\n",
       "      <td>$-$</td>\n",
       "      <td>$\\uparrow$</td>\n",
       "      <td>$\\uparrow$</td>\n",
       "      <td>$\\uparrow$</td>\n",
       "      <td>$\\uparrow$</td>\n",
       "    </tr>\n",
       "    <tr>\n",
       "      <th>tf-idf:nb</th>\n",
       "      <td>$\\uparrow$</td>\n",
       "      <td>$\\uparrow$</td>\n",
       "      <td>$-$</td>\n",
       "      <td>$\\uparrow$</td>\n",
       "      <td>$\\uparrow$</td>\n",
       "      <td>$\\leftarrow$</td>\n",
       "      <td>$-$</td>\n",
       "      <td>$-$</td>\n",
       "      <td>$\\uparrow$</td>\n",
       "      <td>$\\uparrow$</td>\n",
       "    </tr>\n",
       "    <tr>\n",
       "      <th>tf-idf:nn</th>\n",
       "      <td>$\\uparrow$</td>\n",
       "      <td>$\\uparrow$</td>\n",
       "      <td>$\\uparrow$</td>\n",
       "      <td>$\\uparrow$</td>\n",
       "      <td>$\\uparrow$</td>\n",
       "      <td>$\\leftarrow$</td>\n",
       "      <td>$-$</td>\n",
       "      <td>$-$</td>\n",
       "      <td>$\\uparrow$</td>\n",
       "      <td>$\\uparrow$</td>\n",
       "    </tr>\n",
       "    <tr>\n",
       "      <th>tf-idf:rf</th>\n",
       "      <td>$-$</td>\n",
       "      <td>$\\uparrow$</td>\n",
       "      <td>$\\leftarrow$</td>\n",
       "      <td>$\\uparrow$</td>\n",
       "      <td>$\\uparrow$</td>\n",
       "      <td>$\\leftarrow$</td>\n",
       "      <td>$\\leftarrow$</td>\n",
       "      <td>$\\leftarrow$</td>\n",
       "      <td>$-$</td>\n",
       "      <td>$-$</td>\n",
       "    </tr>\n",
       "    <tr>\n",
       "      <th>tf-idf:svm</th>\n",
       "      <td>$-$</td>\n",
       "      <td>$\\uparrow$</td>\n",
       "      <td>$\\leftarrow$</td>\n",
       "      <td>$\\uparrow$</td>\n",
       "      <td>$\\uparrow$</td>\n",
       "      <td>$\\leftarrow$</td>\n",
       "      <td>$\\leftarrow$</td>\n",
       "      <td>$\\leftarrow$</td>\n",
       "      <td>$-$</td>\n",
       "      <td>$-$</td>\n",
       "    </tr>\n",
       "  </tbody>\n",
       "</table>\n",
       "</div>"
      ],
      "text/plain": [
       "classifier2      bert:knn     bert:nb       bert:nn     bert:rf    bert:svm  \\\n",
       "classifier1                                                                   \n",
       "bert:knn              $-$  $\\uparrow$  $\\leftarrow$  $\\uparrow$  $\\uparrow$   \n",
       "bert:nb      $\\leftarrow$         $-$  $\\leftarrow$         $-$         $-$   \n",
       "bert:nn        $\\uparrow$  $\\uparrow$           $-$  $\\uparrow$  $\\uparrow$   \n",
       "bert:rf      $\\leftarrow$         $-$  $\\leftarrow$         $-$         $-$   \n",
       "bert:svm     $\\leftarrow$         $-$  $\\leftarrow$         $-$         $-$   \n",
       "tf-idf:knn     $\\uparrow$  $\\uparrow$    $\\uparrow$  $\\uparrow$  $\\uparrow$   \n",
       "tf-idf:nb      $\\uparrow$  $\\uparrow$           $-$  $\\uparrow$  $\\uparrow$   \n",
       "tf-idf:nn      $\\uparrow$  $\\uparrow$    $\\uparrow$  $\\uparrow$  $\\uparrow$   \n",
       "tf-idf:rf             $-$  $\\uparrow$  $\\leftarrow$  $\\uparrow$  $\\uparrow$   \n",
       "tf-idf:svm            $-$  $\\uparrow$  $\\leftarrow$  $\\uparrow$  $\\uparrow$   \n",
       "\n",
       "classifier2    tf-idf:knn     tf-idf:nb     tf-idf:nn     tf-idf:rf  \\\n",
       "classifier1                                                           \n",
       "bert:knn     $\\leftarrow$  $\\leftarrow$  $\\leftarrow$           $-$   \n",
       "bert:nb      $\\leftarrow$  $\\leftarrow$  $\\leftarrow$  $\\leftarrow$   \n",
       "bert:nn      $\\leftarrow$           $-$  $\\leftarrow$    $\\uparrow$   \n",
       "bert:rf      $\\leftarrow$  $\\leftarrow$  $\\leftarrow$  $\\leftarrow$   \n",
       "bert:svm     $\\leftarrow$  $\\leftarrow$  $\\leftarrow$  $\\leftarrow$   \n",
       "tf-idf:knn            $-$    $\\uparrow$    $\\uparrow$    $\\uparrow$   \n",
       "tf-idf:nb    $\\leftarrow$           $-$           $-$    $\\uparrow$   \n",
       "tf-idf:nn    $\\leftarrow$           $-$           $-$    $\\uparrow$   \n",
       "tf-idf:rf    $\\leftarrow$  $\\leftarrow$  $\\leftarrow$           $-$   \n",
       "tf-idf:svm   $\\leftarrow$  $\\leftarrow$  $\\leftarrow$           $-$   \n",
       "\n",
       "classifier2    tf-idf:svm  \n",
       "classifier1                \n",
       "bert:knn              $-$  \n",
       "bert:nb      $\\leftarrow$  \n",
       "bert:nn        $\\uparrow$  \n",
       "bert:rf      $\\leftarrow$  \n",
       "bert:svm     $\\leftarrow$  \n",
       "tf-idf:knn     $\\uparrow$  \n",
       "tf-idf:nb      $\\uparrow$  \n",
       "tf-idf:nn      $\\uparrow$  \n",
       "tf-idf:rf             $-$  \n",
       "tf-idf:svm            $-$  "
      ]
     },
     "metadata": {},
     "output_type": "display_data"
    }
   ],
   "source": [
    "all_train_scores_pivoted = pd.pivot_table (all_train_scores, index='fold', columns='classifier', values=['balanced_acc'])\n",
    "statistical_test_results = sh.make_test(all_train_scores_pivoted, ['bert:knn', 'bert:nb', 'bert:nn', 'bert:svm', 'bert:rf', 'tf-idf:knn', 'tf-idf:nb', 'tf-idf:nn', 'tf-idf:svm', 'tf-idf:rf'])\n",
    "statistical_test_results_sliced = statistical_test_results[['classifier1', 'classifier2', 'direction']]\n",
    "statistical_test_results_pivoted = statistical_test_results_sliced.pivot(index='classifier1', columns='classifier2', values='direction')\n",
    "display('Statistical test RF in BERT versus in TF-IDF')\n",
    "display(statistical_test_results_pivoted)"
   ]
  },
  {
   "cell_type": "markdown",
   "metadata": {},
   "source": [
    "## Performance analysis in testing"
   ]
  },
  {
   "cell_type": "markdown",
   "metadata": {},
   "source": [
    "### BERT vs. TF-IDF"
   ]
  },
  {
   "cell_type": "code",
   "execution_count": 8,
   "metadata": {},
   "outputs": [
    {
     "name": "stdout",
     "output_type": "stream",
     "text": [
      "Row: rf\n",
      "Row: svm\n",
      "Row: rf\n",
      "Row: svm\n"
     ]
    },
    {
     "data": {
      "image/png": "[encoded data removed]",
      "text/plain": [
       "<Figure size 576x288 with 5 Axes>"
      ]
     },
     "metadata": {},
     "output_type": "display_data"
    },
    {
     "data": {
      "image/png": "[encoded data removed]",
      "text/plain": [
       "<Figure size 576x288 with 5 Axes>"
      ]
     },
     "metadata": {},
     "output_type": "display_data"
    },
    {
     "data": {
      "image/png": "[encoded data removed]",
      "text/plain": [
       "<Figure size 576x288 with 5 Axes>"
      ]
     },
     "metadata": {},
     "output_type": "display_data"
    },
    {
     "data": {
      "image/png": "[encoded data removed]",
      "text/plain": [
       "<Figure size 576x288 with 5 Axes>"
      ]
     },
     "metadata": {},
     "output_type": "display_data"
    }
   ],
   "source": [
    "ph.set_style()\n",
    "classifiers_list = list(classifiers.keys())\n",
    "for project in projects:\n",
    "    test_scores_bert  = pd.read_csv(f'../../../data/metrics/feature-extraction/20210221_{project}_feature_extraction_bert_test_scores.csv')\n",
    "    test_scores_tfidf = pd.read_csv(f'../../../data/metrics/feature-extraction/20210221_{project}_feature_extraction_tfidf_test_scores.csv')\n",
    "    test_scores = pd.concat([test_scores_bert, test_scores_tfidf])\n",
    "    \n",
    "    best_balanced_acc_row = test_scores['balanced_acc'].argmax()\n",
    "    best_classifier = test_scores.iloc[best_balanced_acc_row, 1]\n",
    "    \n",
    "    fig, axes =ph.plot_stacked_bar(test_scores, classifiers_list)\n",
    "    ph.make_labels(fig, axes, project, classifiers_list)\n",
    "    ph.set_size(fig)\n",
    "    ph.color_bars(axes, ph.get_colors(), classifiers[best_classifier])"
   ]
  },
  {
   "cell_type": "code",
   "execution_count": null,
   "metadata": {},
   "outputs": [],
   "source": []
  }
 ],
 "metadata": {
  "kernelspec": {
   "display_name": "Python 3",
   "language": "python",
   "name": "python3"
  },
  "language_info": {
   "codemirror_mode": {
    "name": "ipython",
    "version": 3
   },
   "file_extension": ".py",
   "mimetype": "text/x-python",
   "name": "python",
   "nbconvert_exporter": "python",
   "pygments_lexer": "ipython3",
   "version": "3.7.9"
  }
 },
 "nbformat": 4,
 "nbformat_minor": 4
}
