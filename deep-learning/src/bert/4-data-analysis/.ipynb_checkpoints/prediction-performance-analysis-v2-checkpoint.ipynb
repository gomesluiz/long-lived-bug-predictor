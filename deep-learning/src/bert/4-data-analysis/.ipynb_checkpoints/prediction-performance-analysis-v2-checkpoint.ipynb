{
 "cells": [
  {
   "cell_type": "markdown",
   "metadata": {},
   "source": [
    "# Performance analysis of BERT for feature extraction"
   ]
  },
  {
   "cell_type": "markdown",
   "metadata": {},
   "source": [
    "## Eclipse project"
   ]
  },
  {
   "cell_type": "markdown",
   "metadata": {},
   "source": [
    "| Parameter     | Value         |\n",
    "| ------------- |:-------------:|\n",
    "| Model         | bert-base-uncase |\n",
    "| Tokens        | 128     |\n",
    "| Threshold     | median      |\n"
   ]
  },
  {
   "cell_type": "code",
   "execution_count": 38,
   "metadata": {},
   "outputs": [
    {
     "data": {
      "text/html": [
       "<style type=\"text/css\">\n",
       "    table.dataframe td, table.dataframe th {\n",
       "        border: 1px solid lightgray;\n",
       "    }\n",
       "</style>\n"
      ],
      "text/plain": [
       "<IPython.core.display.HTML object>"
      ]
     },
     "metadata": {},
     "output_type": "display_data"
    }
   ],
   "source": [
    "%%HTML\n",
    "<style type=\"text/css\">\n",
    "    table.dataframe td, table.dataframe th {\n",
    "        border: 1px solid lightgray;\n",
    "    }\n",
    "</style>"
   ]
  },
  {
   "cell_type": "code",
   "execution_count": 39,
   "metadata": {},
   "outputs": [
    {
     "name": "stdout",
     "output_type": "stream",
     "text": [
      "setup completed\n"
     ]
    }
   ],
   "source": [
    "import warnings\n",
    "warnings.filterwarnings(\"ignore\",category=UserWarning)\n",
    "\n",
    "import pandas as pd\n",
    "\n",
    "import plot_helper  as ph\n",
    "import stats_helper as sh\n",
    "\n",
    "print('setup completed')\n",
    "\n",
    "%matplotlib inline"
   ]
  },
  {
   "cell_type": "markdown",
   "metadata": {},
   "source": [
    "## Performance analysis in training"
   ]
  },
  {
   "cell_type": "markdown",
   "metadata": {},
   "source": [
    "## BERT"
   ]
  },
  {
   "cell_type": "markdown",
   "metadata": {},
   "source": [
    "### Statistical measures"
   ]
  },
  {
   "cell_type": "code",
   "execution_count": 40,
   "metadata": {},
   "outputs": [
    {
     "data": {
      "image/png": "[encoded data removed]",
      "text/plain": [
       "<Figure size 576x288 with 1 Axes>"
      ]
     },
     "metadata": {
      "needs_background": "light"
     },
     "output_type": "display_data"
    }
   ],
   "source": [
    "bert_train_scores = pd.read_csv('../../../data/metrics/feature-extraction/20210210_eclipse_feature_extraction_bert_train_scores.csv')\n",
    "_=ph.plot_box(bert_train_scores)"
   ]
  },
  {
   "cell_type": "markdown",
   "metadata": {},
   "source": [
    "### Statistical test"
   ]
  },
  {
   "cell_type": "code",
   "execution_count": 50,
   "metadata": {},
   "outputs": [
    {
     "data": {
      "text/plain": [
       "'Statistical test between classifiers in BERT'"
      ]
     },
     "metadata": {},
     "output_type": "display_data"
    },
    {
     "data": {
      "text/html": [
       "<div>\n",
       "<style scoped>\n",
       "    .dataframe tbody tr th:only-of-type {\n",
       "        vertical-align: middle;\n",
       "    }\n",
       "\n",
       "    .dataframe tbody tr th {\n",
       "        vertical-align: top;\n",
       "    }\n",
       "\n",
       "    .dataframe thead th {\n",
       "        text-align: right;\n",
       "    }\n",
       "</style>\n",
       "<table border=\"1\" class=\"dataframe\">\n",
       "  <thead>\n",
       "    <tr style=\"text-align: right;\">\n",
       "      <th>classifier2</th>\n",
       "      <th>knn</th>\n",
       "      <th>nb</th>\n",
       "      <th>nn</th>\n",
       "      <th>rf</th>\n",
       "      <th>svm</th>\n",
       "    </tr>\n",
       "    <tr>\n",
       "      <th>classifier1</th>\n",
       "      <th></th>\n",
       "      <th></th>\n",
       "      <th></th>\n",
       "      <th></th>\n",
       "      <th></th>\n",
       "    </tr>\n",
       "  </thead>\n",
       "  <tbody>\n",
       "    <tr>\n",
       "      <th>knn</th>\n",
       "      <td>$-$</td>\n",
       "      <td>$\\uparrow$</td>\n",
       "      <td>$\\leftarrow$</td>\n",
       "      <td>$\\uparrow$</td>\n",
       "      <td>$\\uparrow$</td>\n",
       "    </tr>\n",
       "    <tr>\n",
       "      <th>nb</th>\n",
       "      <td>$\\leftarrow$</td>\n",
       "      <td>$-$</td>\n",
       "      <td>$\\leftarrow$</td>\n",
       "      <td>$-$</td>\n",
       "      <td>$-$</td>\n",
       "    </tr>\n",
       "    <tr>\n",
       "      <th>nn</th>\n",
       "      <td>$\\uparrow$</td>\n",
       "      <td>$\\uparrow$</td>\n",
       "      <td>$-$</td>\n",
       "      <td>$\\uparrow$</td>\n",
       "      <td>$\\uparrow$</td>\n",
       "    </tr>\n",
       "    <tr>\n",
       "      <th>rf</th>\n",
       "      <td>$\\leftarrow$</td>\n",
       "      <td>$-$</td>\n",
       "      <td>$\\leftarrow$</td>\n",
       "      <td>$-$</td>\n",
       "      <td>$-$</td>\n",
       "    </tr>\n",
       "    <tr>\n",
       "      <th>svm</th>\n",
       "      <td>$\\leftarrow$</td>\n",
       "      <td>$-$</td>\n",
       "      <td>$\\leftarrow$</td>\n",
       "      <td>$-$</td>\n",
       "      <td>$-$</td>\n",
       "    </tr>\n",
       "  </tbody>\n",
       "</table>\n",
       "</div>"
      ],
      "text/plain": [
       "classifier2           knn          nb            nn          rf         svm\n",
       "classifier1                                                                \n",
       "knn                   $-$  $\\uparrow$  $\\leftarrow$  $\\uparrow$  $\\uparrow$\n",
       "nb           $\\leftarrow$         $-$  $\\leftarrow$         $-$         $-$\n",
       "nn             $\\uparrow$  $\\uparrow$           $-$  $\\uparrow$  $\\uparrow$\n",
       "rf           $\\leftarrow$         $-$  $\\leftarrow$         $-$         $-$\n",
       "svm          $\\leftarrow$         $-$  $\\leftarrow$         $-$         $-$"
      ]
     },
     "metadata": {},
     "output_type": "display_data"
    }
   ],
   "source": [
    "bert_train_scores_pivoted = pd.pivot_table (bert_train_scores, index='fold', columns='classifier', values=['balanced_acc'])\n",
    "statistical_test_results = sh.make_test(bert_train_scores_pivoted)\n",
    "statistical_test_results_sliced = statistical_test_results[['classifier1', 'classifier2', 'direction']]\n",
    "statistical_test_results_pivoted = statistical_test_results_sliced.pivot(index='classifier1', columns='classifier2', values='direction')\n",
    "display('Statistical test between classifiers in BERT:')\n",
    "display(statistical_test_results_pivoted)"
   ]
  },
  {
   "cell_type": "markdown",
   "metadata": {},
   "source": [
    "### BERT vs. TF-IDF"
   ]
  },
  {
   "cell_type": "markdown",
   "metadata": {},
   "source": [
    "### Statistical test"
   ]
  },
  {
   "cell_type": "code",
   "execution_count": 44,
   "metadata": {},
   "outputs": [],
   "source": [
    "tfidf_train_scores = pd.read_csv('../../../data/metrics/feature-extraction/20210213_eclipse_feature_extraction_tfidf_train_scores.csv')\n",
    "best_tfidf_train_scores = tfidf_train_scores.loc[tfidf_train_scores.classifier=='rf']\n",
    "best_tfidf_train_scores.loc[:,['classifier']] = 'tfidf:rf'\n",
    "best_bert_train_scores = bert_train_scores.loc[bert_train_scores.classifier=='rf']\n",
    "best_bert_train_scores.loc[:,['classifier']] = 'bert:rf'\n",
    "all_train_scores = pd.concat([best_bert_train_scores, best_tfidf_train_scores])"
   ]
  },
  {
   "cell_type": "code",
   "execution_count": 49,
   "metadata": {},
   "outputs": [
    {
     "data": {
      "text/plain": [
       "'Statistical test RF in BERT versus in TF-IDF'"
      ]
     },
     "metadata": {},
     "output_type": "display_data"
    },
    {
     "data": {
      "text/html": [
       "<div>\n",
       "<style scoped>\n",
       "    .dataframe tbody tr th:only-of-type {\n",
       "        vertical-align: middle;\n",
       "    }\n",
       "\n",
       "    .dataframe tbody tr th {\n",
       "        vertical-align: top;\n",
       "    }\n",
       "\n",
       "    .dataframe thead th {\n",
       "        text-align: right;\n",
       "    }\n",
       "</style>\n",
       "<table border=\"1\" class=\"dataframe\">\n",
       "  <thead>\n",
       "    <tr style=\"text-align: right;\">\n",
       "      <th>classifier2</th>\n",
       "      <th>bert:rf</th>\n",
       "      <th>tfidf:rf</th>\n",
       "    </tr>\n",
       "    <tr>\n",
       "      <th>classifier1</th>\n",
       "      <th></th>\n",
       "      <th></th>\n",
       "    </tr>\n",
       "  </thead>\n",
       "  <tbody>\n",
       "    <tr>\n",
       "      <th>bert:rf</th>\n",
       "      <td>$-$</td>\n",
       "      <td>$\\leftarrow$</td>\n",
       "    </tr>\n",
       "    <tr>\n",
       "      <th>tfidf:rf</th>\n",
       "      <td>$\\uparrow$</td>\n",
       "      <td>$-$</td>\n",
       "    </tr>\n",
       "  </tbody>\n",
       "</table>\n",
       "</div>"
      ],
      "text/plain": [
       "classifier2     bert:rf      tfidf:rf\n",
       "classifier1                          \n",
       "bert:rf             $-$  $\\leftarrow$\n",
       "tfidf:rf     $\\uparrow$           $-$"
      ]
     },
     "metadata": {},
     "output_type": "display_data"
    }
   ],
   "source": [
    "all_train_scores_pivoted = pd.pivot_table (all_train_scores, index='fold', columns='classifier', values=['balanced_acc'])\n",
    "statistical_test_results = sh.make_test(all_train_scores_pivoted, ['bert:rf', 'tfidf:rf'])\n",
    "statistical_test_results_sliced = statistical_test_results[['classifier1', 'classifier2', 'direction']]\n",
    "statistical_test_results_pivoted = statistical_test_results_sliced.pivot(index='classifier1', columns='classifier2', values='direction')\n",
    "display('Statistical test RF in BERT versus in TF-IDF')\n",
    "display(statistical_test_results_pivoted)"
   ]
  },
  {
   "cell_type": "markdown",
   "metadata": {},
   "source": [
    "## Performance analysis in testing"
   ]
  },
  {
   "cell_type": "markdown",
   "metadata": {},
   "source": [
    "### BERT vs. TF-IDF"
   ]
  },
  {
   "cell_type": "code",
   "execution_count": 46,
   "metadata": {},
   "outputs": [],
   "source": [
    "test_scores_bert  = pd.read_csv('../../../data/metrics/feature-extraction/20210210_eclipse_feature_extraction_bert_test_scores.csv')\n",
    "test_scores_tfidf = pd.read_csv('../../../data/metrics/feature-extraction/20210213_eclipse_feature_extraction_tfidf_test_scores.csv')\n",
    "test_scores = pd.concat([test_scores_bert, test_scores_tfidf])"
   ]
  },
  {
   "cell_type": "code",
   "execution_count": 48,
   "metadata": {},
   "outputs": [
    {
     "data": {
      "image/png": "[encoded data removed]",
      "text/plain": [
       "<Figure size 576x288 with 5 Axes>"
      ]
     },
     "metadata": {},
     "output_type": "display_data"
    }
   ],
   "source": [
    "ph.set_style()\n",
    "fig, axes =ph.plot_stacked_bar(test_scores)\n",
    "ph.make_labels(fig, axes)\n",
    "ph.set_size(fig)\n",
    "ph.color_bars(axes, ph.get_colors())"
   ]
  },
  {
   "cell_type": "code",
   "execution_count": null,
   "metadata": {},
   "outputs": [],
   "source": []
  }
 ],
 "metadata": {
  "kernelspec": {
   "display_name": "Python 3",
   "language": "python",
   "name": "python3"
  },
  "language_info": {
   "codemirror_mode": {
    "name": "ipython",
    "version": 3
   },
   "file_extension": ".py",
   "mimetype": "text/x-python",
   "name": "python",
   "nbconvert_exporter": "python",
   "pygments_lexer": "ipython3",
   "version": "3.7.9"
  }
 },
 "nbformat": 4,
 "nbformat_minor": 4
}
