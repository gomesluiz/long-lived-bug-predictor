{
 "cells": [
  {
   "cell_type": "markdown",
   "metadata": {},
   "source": [
    "# Research Question No. 2"
   ]
  },
  {
   "cell_type": "markdown",
   "metadata": {},
   "source": [
    "## How frequent are long-lived bugs in FLOSS project?"
   ]
  },
  {
   "cell_type": "markdown",
   "metadata": {},
   "source": [
    "## Experimental parameters"
   ]
  },
  {
   "cell_type": "markdown",
   "metadata": {},
   "source": [
    "\n",
    "| Project                    |         #Reports     |       #Thesholds     |\n",
    "|----------------------------|:--------------------:|:--------------------:|\n",
    "| Eclipse                    |        9998         |         365          |\n",
    "| GCC                        |        9998         |         365          |\n",
    "| Gnome                      |        7991          |         365          |\n",
    "| Freedesktop                |        7712          |         365          |\n",
    "| Mozilla                    |        9998          |         365          |\n",
    "| WineHQ                     |        6073          |         365          |\n",
    "\n",
    "Every bug which its report have indicated that the number of days to resolve is less than or equal to **threshold fixed** was considered a **non-long lived bug** and that which the number of days to resolve is greater than this threshold was considered as a **long-live bug**. "
   ]
  },
  {
   "cell_type": "markdown",
   "metadata": {},
   "source": [
    "## Step1. Setup environment."
   ]
  },
  {
   "cell_type": "code",
   "execution_count": 33,
   "metadata": {},
   "outputs": [
    {
     "data": {
      "application/javascript": [
       "IPython.OutputArea.prototype._should_scroll = function(lines) {\n",
       "    return false;\n",
       "}\n"
      ],
      "text/plain": [
       "<IPython.core.display.Javascript object>"
      ]
     },
     "metadata": {},
     "output_type": "display_data"
    }
   ],
   "source": [
    "%%javascript\n",
    "IPython.OutputArea.prototype._should_scroll = function(lines) {\n",
    "    return false;\n",
    "}"
   ]
  },
  {
   "cell_type": "code",
   "execution_count": 34,
   "metadata": {},
   "outputs": [
    {
     "name": "stdout",
     "output_type": "stream",
     "text": [
      "Setup complete\n"
     ]
    },
    {
     "name": "stderr",
     "output_type": "stream",
     "text": [
      "[nltk_data] Downloading package punkt to /home/gomes/nltk_data...\n",
      "[nltk_data]   Package punkt is already up-to-date!\n",
      "[nltk_data] Downloading package stopwords to /home/gomes/nltk_data...\n",
      "[nltk_data]   Package stopwords is already up-to-date!\n"
     ]
    }
   ],
   "source": [
    "import matplotlib.pyplot as plt \n",
    "import nltk \n",
    "import numpy as np\n",
    "import os \n",
    "import pandas as pd\n",
    "import seaborn as sns \n",
    "import string\n",
    "import re\n",
    "\n",
    "from nltk.stem   import PorterStemmer\n",
    "from nltk.corpus import stopwords\n",
    "from nltk.tokenize import sent_tokenize, word_tokenize\n",
    "from wordcloud import WordCloud, STOPWORDS, ImageColorGenerator\n",
    "\n",
    "# Setup Seaborn\n",
    "sns.set_context(\"paper\")\n",
    "sns.set(style=\"ticks\", color_codes=True, font_scale=2)\n",
    "\n",
    "# Setup Matplotlib\n",
    "plt.rc('figure', figsize=(20, 20))\n",
    "plt.style.use('default')\n",
    "SMALL_SIZE  = 10\n",
    "MEDIUM_SIZE = 12\n",
    "BIGGER_SIZE = 14\n",
    "plt.rc('font',   size=SMALL_SIZE)       # controls default text sizes\n",
    "plt.rc('axes',   titlesize=SMALL_SIZE)  # fontsize of the axes title\n",
    "plt.rc('axes',   labelsize=SMALL_SIZE)  # fontsize of the x and y labels\n",
    "plt.rc('xtick',  labelsize=SMALL_SIZE)  # fontsize of the tick labels\n",
    "plt.rc('ytick',  labelsize=SMALL_SIZE)  # fontsize of the tick labels\n",
    "plt.rc('legend', fontsize=SMALL_SIZE)   # legend fontsize\n",
    "plt.rc('figure', titlesize=SMALL_SIZE)  # fontsize of the figure title\n",
    "#%matplotlib inline \n",
    "\n",
    "# Setup NLTK\n",
    "stemmer = PorterStemmer()\n",
    "nltk.download('punkt')\n",
    "nltk.download('stopwords')\n",
    "\n",
    "# Path of the file to read.\n",
    "projects = ['eclipse', 'freedesktop', 'gnome', 'mozilla', 'gcc', 'winehq']\n",
    "\n",
    "# Fixed time threshold.\n",
    "bug_reports_file_prefix  = '20200731'\n",
    "bug_fix_time_threshold   = 365\n",
    "print(\"Setup complete\")"
   ]
  },
  {
   "cell_type": "markdown",
   "metadata": {},
   "source": [
    "## Step 2. Load data."
   ]
  },
  {
   "cell_type": "code",
   "execution_count": 35,
   "metadata": {},
   "outputs": [
    {
     "name": "stdout",
     "output_type": "stream",
     "text": [
      "There are 9776 rows and 19 columns in datasets/20200731_eclipse_bug_report_data.csv.\n",
      "\n",
      "Mean of bug fix time: 102.39453764320785.\n",
      "\n",
      "There are 7684 rows and 19 columns in datasets/20200731_freedesktop_bug_report_data.csv.\n",
      "\n",
      "Mean of bug fix time: 173.53669963560645.\n",
      "\n",
      "There are 7813 rows and 19 columns in datasets/20200731_gnome_bug_report_data.csv.\n",
      "\n",
      "Mean of bug fix time: 203.92115704594906.\n",
      "\n",
      "There are 9999 rows and 19 columns in datasets/20200731_mozilla_bug_report_data.csv.\n",
      "\n",
      "Mean of bug fix time: 278.0985098509851.\n",
      "\n",
      "There are 10000 rows and 19 columns in datasets/20200731_gcc_bug_report_data.csv.\n",
      "\n",
      "Mean of bug fix time: 225.8268.\n",
      "\n",
      "There are 6074 rows and 19 columns in datasets/20200731_winehq_bug_report_data.csv.\n",
      "\n",
      "Mean of bug fix time: 490.5972999670728.\n",
      "\n"
     ]
    }
   ],
   "source": [
    "bug_reports_data_list = []\n",
    "for project in projects:\n",
    "    bug_reports_path = f\"datasets/{bug_reports_file_prefix}_{project}_bug_report_data.csv\"\n",
    "\n",
    "    # read bug reports data.\n",
    "    bug_reports_data = pd.read_csv(bug_reports_path)[0:10000]\n",
    "    rows_and_cols = bug_reports_data.shape\n",
    "    print(f\"There are {rows_and_cols[0]} rows and {rows_and_cols[1]} columns in {bug_reports_path}.\\n\")\n",
    "    print(f\"Mean of bug fix time: {bug_reports_data['bug_fix_time'].mean(axis=0)}.\\n\")\n",
    "   \n",
    "    bug_reports_data[\"project\"] = project  \n",
    "    bug_reports_data_list.append(bug_reports_data) \n",
    "\n",
    "# concatenate all bug_reports_data \n",
    "bug_reports_all_data = pd.concat(bug_reports_data_list)"
   ]
  },
  {
   "cell_type": "markdown",
   "metadata": {},
   "source": [
    "## Step 3. Preprocess data."
   ]
  },
  {
   "cell_type": "code",
   "execution_count": 36,
   "metadata": {},
   "outputs": [],
   "source": [
    "def stem_sentence(sentence):\n",
    "    token_words=word_tokenize(sentence)\n",
    "    token_words\n",
    "    stem_sentence=set()\n",
    "    for word in token_words:\n",
    "        stem_sentence.add(stemmer.stem(word))\n",
    "        \n",
    "    return ' '.join(list(stem_sentence))\n",
    "\n",
    "def clean_text(text):\n",
    "    \"\"\"Clean a text.\n",
    "\n",
    "    Parameters\n",
    "    ----------\n",
    "    text: string\n",
    "        A text string.\n",
    "\n",
    "    Returns\n",
    "    -------\n",
    "    text:string\n",
    "        A modified initial text string\n",
    "    \"\"\"\n",
    "    if text != text:\n",
    "        return ' '\n",
    "\n",
    "    replace_by_space = re.compile(\"[/(){}\\[\\]\\|@,;]\")\n",
    "    replace_bad_symbols = re.compile('[^0-9a-z #+_]')\n",
    "    english_stopwords = set(stopwords.words('english'))\n",
    "    text = text.lower()\n",
    "    text = replace_by_space.sub(' ', text)\n",
    "    text = replace_bad_symbols.sub('', text)\n",
    "    text = ' '.join(word for word in text.split() if word not in english_stopwords)\n",
    "    return stem_sentence(text)\n",
    "\n",
    "def get_file_size(project, bugid):\n",
    "    bugid = re.findall(r\"\\d+$\", bugid)[0]\n",
    "    file_name=f\"/home/gomes/Workspace/doctorate/data/{project}/xml/{project.upper()}-{bugid}.xml\"\n",
    "    info = os.stat(file_name) \n",
    "    return info.st_size * 0.000001\n",
    "    "
   ]
  },
  {
   "cell_type": "code",
   "execution_count": 38,
   "metadata": {},
   "outputs": [
    {
     "name": "stdout",
     "output_type": "stream",
     "text": [
      "datasets/20200731_bug_reports_all_data.csv exists, read data from it!\n"
     ]
    }
   ],
   "source": [
    "bug_reports_path = f\"datasets/{bug_reports_file_prefix}_bug_reports_all_data.csv\"\n",
    "if (not os.path.exists(bug_reports_path)):\n",
    "    bug_reports_all_data['short_description'] = bug_reports_all_data['short_description'].fillna(\" \")\n",
    "    bug_reports_all_data['long_description']  = bug_reports_all_data['long_description'].fillna(\" \")\n",
    "    #bug_reports_all_data['short_description_words'] = bug_reports_all_data['short_description'].apply(lambda s: len(clean_text(s).split()))\n",
    "    #bug_reports_all_data['long_description_words']  = bug_reports_all_data['long_description'].apply(lambda s: len(clean_text(s).split()))\n",
    "    bug_reports_all_data['long_lived?']  = bug_reports_all_data['bug_fix_time'].apply(lambda t: 'long-lived' if t > bug_fix_time_threshold else 'short-lived')\n",
    "\n",
    "    bug_reports_all_data.drop(bug_reports_all_data[bug_reports_all_data['severity_category'] == 'not set'].index, inplace=True)\n",
    "    bug_reports_all_data.drop(bug_reports_all_data[bug_reports_all_data['bug_fix_time'] < 0 ].index, inplace=True)\n",
    "\n",
    "    #bug_reports_all_data = pd.read_csv(bug_reports_path)\n",
    "    #bug_reports_dir   = os.path.join('/home/gomes/Workspace/doctorate/data/eclipse/xml/')\n",
    "    #bug_reports_files = os.listdir(bug_reports_dir)\n",
    "    #bug_reports_all_data['file_size'] = bug_reports_all_data.apply(lambda x: get_file_size(x['project'], x['bug_id']), axis=1)\n",
    "    #bug_reports_all_data.nlargest(10, 'file_size')\n",
    "\n",
    "    bug_reports_all_data.to_csv(bug_reports_path, index=False)\n",
    "else:\n",
    "    print(f\"{bug_reports_path} exists, read data from it!\")\n",
    "    bug_reports_all_data = pd.read_csv(bug_reports_path)\n",
    "\n"
   ]
  },
  {
   "cell_type": "markdown",
   "metadata": {},
   "source": [
    "## Step 3. Exploring data analysis"
   ]
  },
  {
   "cell_type": "code",
   "execution_count": 17,
   "metadata": {},
   "outputs": [
    {
     "data": {
      "text/plain": [
       "gcc            9946\n",
       "mozilla        9945\n",
       "eclipse        9724\n",
       "gnome          7772\n",
       "freedesktop    7644\n",
       "winehq         6037\n",
       "Name: project, dtype: int64"
      ]
     },
     "execution_count": 17,
     "metadata": {},
     "output_type": "execute_result"
    }
   ],
   "source": [
    "bug_reports_all_data['project'].value_counts()"
   ]
  },
  {
   "cell_type": "code",
   "execution_count": 18,
   "metadata": {},
   "outputs": [
    {
     "data": {
      "text/html": [
       "<div>\n",
       "<style scoped>\n",
       "    .dataframe tbody tr th:only-of-type {\n",
       "        vertical-align: middle;\n",
       "    }\n",
       "\n",
       "    .dataframe tbody tr th {\n",
       "        vertical-align: top;\n",
       "    }\n",
       "\n",
       "    .dataframe thead th {\n",
       "        text-align: right;\n",
       "    }\n",
       "</style>\n",
       "<table border=\"1\" class=\"dataframe\">\n",
       "  <thead>\n",
       "    <tr style=\"text-align: right;\">\n",
       "      <th></th>\n",
       "      <th>bug_id</th>\n",
       "      <th>creation_date</th>\n",
       "      <th>component_name</th>\n",
       "      <th>product_name</th>\n",
       "      <th>short_description</th>\n",
       "      <th>long_description</th>\n",
       "      <th>assignee_name</th>\n",
       "      <th>reporter_name</th>\n",
       "      <th>resolution_category</th>\n",
       "      <th>resolution_code</th>\n",
       "      <th>...</th>\n",
       "      <th>update_date</th>\n",
       "      <th>quantity_of_votes</th>\n",
       "      <th>quantity_of_comments</th>\n",
       "      <th>resolution_date</th>\n",
       "      <th>bug_fix_time</th>\n",
       "      <th>severity_category</th>\n",
       "      <th>severity_code</th>\n",
       "      <th>project</th>\n",
       "      <th>short_description_words</th>\n",
       "      <th>long_lived?</th>\n",
       "    </tr>\n",
       "  </thead>\n",
       "  <tbody>\n",
       "    <tr>\n",
       "      <th>0</th>\n",
       "      <td>RECOMMENDERS-467951</td>\n",
       "      <td>2015-05-22</td>\n",
       "      <td>Core</td>\n",
       "      <td>RECOMMENDERS</td>\n",
       "      <td>LogTraceException in ProposalUtils.toMethodNam...</td>\n",
       "      <td>The following incident was reported via the au...</td>\n",
       "      <td>recommenders-inbox</td>\n",
       "      <td>error-reports-inbox</td>\n",
       "      <td>fixed</td>\n",
       "      <td>1</td>\n",
       "      <td>...</td>\n",
       "      <td>2015-05-27</td>\n",
       "      <td>0</td>\n",
       "      <td>2</td>\n",
       "      <td>2015-05-27</td>\n",
       "      <td>5</td>\n",
       "      <td>normal</td>\n",
       "      <td>2</td>\n",
       "      <td>eclipse</td>\n",
       "      <td>3</td>\n",
       "      <td>short-lived</td>\n",
       "    </tr>\n",
       "    <tr>\n",
       "      <th>1</th>\n",
       "      <td>QVTO-463396</td>\n",
       "      <td>2015-03-29</td>\n",
       "      <td>Engine</td>\n",
       "      <td>QVTO</td>\n",
       "      <td>CCE in DecorationNodeImpl.eSet (159)</td>\n",
       "      <td>The following incident was reported via the au...</td>\n",
       "      <td>serg.boyko2011</td>\n",
       "      <td>error-reports-inbox</td>\n",
       "      <td>fixed</td>\n",
       "      <td>1</td>\n",
       "      <td>...</td>\n",
       "      <td>2015-04-01</td>\n",
       "      <td>0</td>\n",
       "      <td>8</td>\n",
       "      <td>2015-03-31</td>\n",
       "      <td>2</td>\n",
       "      <td>normal</td>\n",
       "      <td>2</td>\n",
       "      <td>eclipse</td>\n",
       "      <td>3</td>\n",
       "      <td>short-lived</td>\n",
       "    </tr>\n",
       "    <tr>\n",
       "      <th>2</th>\n",
       "      <td>EQUINOX-530069</td>\n",
       "      <td>2018-01-20</td>\n",
       "      <td>Compendium</td>\n",
       "      <td>EQUINOX</td>\n",
       "      <td>[http servlet] During dispatching javax.servle...</td>\n",
       "      <td>Original issue https://issues.liferay.com/brow...</td>\n",
       "      <td>raymond.auge</td>\n",
       "      <td>raymond.auge</td>\n",
       "      <td>fixed</td>\n",
       "      <td>1</td>\n",
       "      <td>...</td>\n",
       "      <td>2018-01-22</td>\n",
       "      <td>0</td>\n",
       "      <td>3</td>\n",
       "      <td>2018-01-22</td>\n",
       "      <td>2</td>\n",
       "      <td>normal</td>\n",
       "      <td>2</td>\n",
       "      <td>eclipse</td>\n",
       "      <td>10</td>\n",
       "      <td>short-lived</td>\n",
       "    </tr>\n",
       "    <tr>\n",
       "      <th>3</th>\n",
       "      <td>NATTABLE-422482</td>\n",
       "      <td>2013-11-25</td>\n",
       "      <td>Core</td>\n",
       "      <td>NATTABLE</td>\n",
       "      <td>Left border of NatTable is not drawn</td>\n",
       "      <td>Rendering a NatTable on a Composite with margi...</td>\n",
       "      <td>dirk.fauth</td>\n",
       "      <td>dirk.fauth</td>\n",
       "      <td>fixed</td>\n",
       "      <td>1</td>\n",
       "      <td>...</td>\n",
       "      <td>2014-07-23</td>\n",
       "      <td>0</td>\n",
       "      <td>3</td>\n",
       "      <td>2013-11-25</td>\n",
       "      <td>0</td>\n",
       "      <td>normal</td>\n",
       "      <td>2</td>\n",
       "      <td>eclipse</td>\n",
       "      <td>4</td>\n",
       "      <td>short-lived</td>\n",
       "    </tr>\n",
       "    <tr>\n",
       "      <th>4</th>\n",
       "      <td>WTP_JAVA_EE_TOOLS-116294</td>\n",
       "      <td>2005-11-14</td>\n",
       "      <td>jst.j2ee</td>\n",
       "      <td>WTP_JAVA_EE_TOOLS</td>\n",
       "      <td>NPE while importing EAR with utility jar</td>\n",
       "      <td>Import and EAR which has EJb and Ejb client tr...</td>\n",
       "      <td>jsholl</td>\n",
       "      <td>nagrawal</td>\n",
       "      <td>fixed</td>\n",
       "      <td>1</td>\n",
       "      <td>...</td>\n",
       "      <td>2005-12-09</td>\n",
       "      <td>0</td>\n",
       "      <td>4</td>\n",
       "      <td>2005-11-15</td>\n",
       "      <td>1</td>\n",
       "      <td>blocker</td>\n",
       "      <td>6</td>\n",
       "      <td>eclipse</td>\n",
       "      <td>5</td>\n",
       "      <td>short-lived</td>\n",
       "    </tr>\n",
       "  </tbody>\n",
       "</table>\n",
       "<p>5 rows × 22 columns</p>\n",
       "</div>"
      ],
      "text/plain": [
       "                     bug_id creation_date component_name       product_name  \\\n",
       "0       RECOMMENDERS-467951    2015-05-22           Core       RECOMMENDERS   \n",
       "1               QVTO-463396    2015-03-29         Engine               QVTO   \n",
       "2            EQUINOX-530069    2018-01-20     Compendium            EQUINOX   \n",
       "3           NATTABLE-422482    2013-11-25           Core           NATTABLE   \n",
       "4  WTP_JAVA_EE_TOOLS-116294    2005-11-14       jst.j2ee  WTP_JAVA_EE_TOOLS   \n",
       "\n",
       "                                   short_description  \\\n",
       "0  LogTraceException in ProposalUtils.toMethodNam...   \n",
       "1               CCE in DecorationNodeImpl.eSet (159)   \n",
       "2  [http servlet] During dispatching javax.servle...   \n",
       "3               Left border of NatTable is not drawn   \n",
       "4           NPE while importing EAR with utility jar   \n",
       "\n",
       "                                    long_description       assignee_name  \\\n",
       "0  The following incident was reported via the au...  recommenders-inbox   \n",
       "1  The following incident was reported via the au...      serg.boyko2011   \n",
       "2  Original issue https://issues.liferay.com/brow...        raymond.auge   \n",
       "3  Rendering a NatTable on a Composite with margi...          dirk.fauth   \n",
       "4  Import and EAR which has EJb and Ejb client tr...              jsholl   \n",
       "\n",
       "         reporter_name resolution_category  resolution_code  ... update_date  \\\n",
       "0  error-reports-inbox               fixed                1  ...  2015-05-27   \n",
       "1  error-reports-inbox               fixed                1  ...  2015-04-01   \n",
       "2         raymond.auge               fixed                1  ...  2018-01-22   \n",
       "3           dirk.fauth               fixed                1  ...  2014-07-23   \n",
       "4             nagrawal               fixed                1  ...  2005-12-09   \n",
       "\n",
       "   quantity_of_votes quantity_of_comments  resolution_date  bug_fix_time  \\\n",
       "0                  0                    2       2015-05-27             5   \n",
       "1                  0                    8       2015-03-31             2   \n",
       "2                  0                    3       2018-01-22             2   \n",
       "3                  0                    3       2013-11-25             0   \n",
       "4                  0                    4       2005-11-15             1   \n",
       "\n",
       "  severity_category  severity_code  project  short_description_words  \\\n",
       "0            normal              2  eclipse                        3   \n",
       "1            normal              2  eclipse                        3   \n",
       "2            normal              2  eclipse                       10   \n",
       "3            normal              2  eclipse                        4   \n",
       "4           blocker              6  eclipse                        5   \n",
       "\n",
       "   long_lived?  \n",
       "0  short-lived  \n",
       "1  short-lived  \n",
       "2  short-lived  \n",
       "3  short-lived  \n",
       "4  short-lived  \n",
       "\n",
       "[5 rows x 22 columns]"
      ]
     },
     "execution_count": 18,
     "metadata": {},
     "output_type": "execute_result"
    }
   ],
   "source": [
    "bug_reports_all_data.head()"
   ]
  },
  {
   "cell_type": "code",
   "execution_count": 26,
   "metadata": {},
   "outputs": [
    {
     "data": {
      "text/html": [
       "<div>\n",
       "<style scoped>\n",
       "    .dataframe tbody tr th:only-of-type {\n",
       "        vertical-align: middle;\n",
       "    }\n",
       "\n",
       "    .dataframe tbody tr th {\n",
       "        vertical-align: top;\n",
       "    }\n",
       "\n",
       "    .dataframe thead th {\n",
       "        text-align: right;\n",
       "    }\n",
       "</style>\n",
       "<table border=\"1\" class=\"dataframe\">\n",
       "  <thead>\n",
       "    <tr style=\"text-align: right;\">\n",
       "      <th></th>\n",
       "      <th>bug_id</th>\n",
       "      <th>creation_date</th>\n",
       "      <th>component_name</th>\n",
       "      <th>product_name</th>\n",
       "      <th>short_description</th>\n",
       "      <th>long_description</th>\n",
       "      <th>assignee_name</th>\n",
       "      <th>reporter_name</th>\n",
       "      <th>resolution_category</th>\n",
       "      <th>resolution_code</th>\n",
       "      <th>...</th>\n",
       "      <th>update_date</th>\n",
       "      <th>quantity_of_votes</th>\n",
       "      <th>quantity_of_comments</th>\n",
       "      <th>resolution_date</th>\n",
       "      <th>bug_fix_time</th>\n",
       "      <th>severity_category</th>\n",
       "      <th>severity_code</th>\n",
       "      <th>project</th>\n",
       "      <th>short_description_words</th>\n",
       "      <th>long_lived?</th>\n",
       "    </tr>\n",
       "  </thead>\n",
       "  <tbody>\n",
       "    <tr>\n",
       "      <th>42367</th>\n",
       "      <td>GCC-7221</td>\n",
       "      <td>2002-07-06</td>\n",
       "      <td>c++</td>\n",
       "      <td>GCC</td>\n",
       "      <td>wrong linkage of typedef-named classes</td>\n",
       "      <td>Given:\\n\\n  typedef struct {\\n    void f()\\n  ...</td>\n",
       "      <td>unassigned</td>\n",
       "      <td>aoliva</td>\n",
       "      <td>fixed</td>\n",
       "      <td>1</td>\n",
       "      <td>...</td>\n",
       "      <td>2017-02-28</td>\n",
       "      <td>0</td>\n",
       "      <td>8</td>\n",
       "      <td>2017-02-28</td>\n",
       "      <td>5351</td>\n",
       "      <td>normal</td>\n",
       "      <td>2</td>\n",
       "      <td>gcc</td>\n",
       "      <td>4</td>\n",
       "      <td>long-lived</td>\n",
       "    </tr>\n",
       "  </tbody>\n",
       "</table>\n",
       "<p>1 rows × 22 columns</p>\n",
       "</div>"
      ],
      "text/plain": [
       "         bug_id creation_date component_name product_name  \\\n",
       "42367  GCC-7221    2002-07-06            c++          GCC   \n",
       "\n",
       "                            short_description  \\\n",
       "42367  wrong linkage of typedef-named classes   \n",
       "\n",
       "                                        long_description assignee_name  \\\n",
       "42367  Given:\\n\\n  typedef struct {\\n    void f()\\n  ...    unassigned   \n",
       "\n",
       "      reporter_name resolution_category  resolution_code  ... update_date  \\\n",
       "42367        aoliva               fixed                1  ...  2017-02-28   \n",
       "\n",
       "       quantity_of_votes quantity_of_comments  resolution_date  bug_fix_time  \\\n",
       "42367                  0                    8       2017-02-28          5351   \n",
       "\n",
       "      severity_category  severity_code project  short_description_words  \\\n",
       "42367            normal              2     gcc                        4   \n",
       "\n",
       "      long_lived?  \n",
       "42367  long-lived  \n",
       "\n",
       "[1 rows x 22 columns]"
      ]
     },
     "execution_count": 26,
     "metadata": {},
     "output_type": "execute_result"
    }
   ],
   "source": [
    "bug_reports_all_data.loc[bug_reports_all_data['project']=='gcc'].nlargest(1, 'bug_fix_time')"
   ]
  },
  {
   "cell_type": "code",
   "execution_count": 28,
   "metadata": {},
   "outputs": [
    {
     "data": {
      "text/plain": [
       "'eclipse'"
      ]
     },
     "metadata": {},
     "output_type": "display_data"
    },
    {
     "data": {
      "text/plain": [
       "count    9724.000000\n",
       "mean      102.336796\n",
       "std       303.273259\n",
       "min         0.000000\n",
       "25%         1.000000\n",
       "50%         8.000000\n",
       "75%        59.000000\n",
       "max      4961.000000\n",
       "Name: bug_fix_time, dtype: float64"
      ]
     },
     "metadata": {},
     "output_type": "display_data"
    },
    {
     "name": "stdout",
     "output_type": "stream",
     "text": [
      "Percentiles: 25th=1.000, 75th=59.000, IQR=58.000\n",
      "Identified outliers: 15.107\n"
     ]
    },
    {
     "data": {
      "text/plain": [
       "'freedesktop'"
      ]
     },
     "metadata": {},
     "output_type": "display_data"
    },
    {
     "data": {
      "text/plain": [
       "count    7644.000000\n",
       "mean      173.914704\n",
       "std       385.559254\n",
       "min         0.000000\n",
       "25%         3.000000\n",
       "50%        28.000000\n",
       "75%       163.000000\n",
       "max      4896.000000\n",
       "Name: bug_fix_time, dtype: float64"
      ]
     },
     "metadata": {},
     "output_type": "display_data"
    },
    {
     "name": "stdout",
     "output_type": "stream",
     "text": [
      "Percentiles: 25th=3.000, 75th=163.000, IQR=160.000\n",
      "Identified outliers: 12.271\n"
     ]
    },
    {
     "data": {
      "text/plain": [
       "'gnome'"
      ]
     },
     "metadata": {},
     "output_type": "display_data"
    },
    {
     "data": {
      "text/plain": [
       "count    7772.000000\n",
       "mean      204.056485\n",
       "std       476.479312\n",
       "min         0.000000\n",
       "25%         2.000000\n",
       "50%        24.000000\n",
       "75%       164.000000\n",
       "max      5577.000000\n",
       "Name: bug_fix_time, dtype: float64"
      ]
     },
     "metadata": {},
     "output_type": "display_data"
    },
    {
     "name": "stdout",
     "output_type": "stream",
     "text": [
      "Percentiles: 25th=2.000, 75th=164.000, IQR=162.000\n",
      "Identified outliers: 13.201\n"
     ]
    },
    {
     "data": {
      "text/plain": [
       "'mozilla'"
      ]
     },
     "metadata": {},
     "output_type": "display_data"
    },
    {
     "data": {
      "text/plain": [
       "count    9945.000000\n",
       "mean      278.197084\n",
       "std       661.983073\n",
       "min         0.000000\n",
       "25%         3.000000\n",
       "50%        24.000000\n",
       "75%       187.000000\n",
       "max      7294.000000\n",
       "Name: bug_fix_time, dtype: float64"
      ]
     },
     "metadata": {},
     "output_type": "display_data"
    },
    {
     "name": "stdout",
     "output_type": "stream",
     "text": [
      "Percentiles: 25th=3.000, 75th=187.000, IQR=184.000\n",
      "Identified outliers: 15.515\n"
     ]
    },
    {
     "data": {
      "text/plain": [
       "'gcc'"
      ]
     },
     "metadata": {},
     "output_type": "display_data"
    },
    {
     "data": {
      "text/plain": [
       "count    9946.000000\n",
       "mean      228.168510\n",
       "std       516.337864\n",
       "min         0.000000\n",
       "25%         3.000000\n",
       "50%        28.000000\n",
       "75%       189.000000\n",
       "max      5351.000000\n",
       "Name: bug_fix_time, dtype: float64"
      ]
     },
     "metadata": {},
     "output_type": "display_data"
    },
    {
     "name": "stdout",
     "output_type": "stream",
     "text": [
      "Percentiles: 25th=3.000, 75th=189.000, IQR=186.000\n",
      "Identified outliers: 13.513\n"
     ]
    },
    {
     "data": {
      "text/plain": [
       "'winehq'"
      ]
     },
     "metadata": {},
     "output_type": "display_data"
    },
    {
     "data": {
      "text/plain": [
       "count    6037.000000\n",
       "mean      490.662249\n",
       "std       665.255225\n",
       "min         0.000000\n",
       "25%        22.000000\n",
       "50%       221.000000\n",
       "75%       708.000000\n",
       "max      5636.000000\n",
       "Name: bug_fix_time, dtype: float64"
      ]
     },
     "metadata": {},
     "output_type": "display_data"
    },
    {
     "name": "stdout",
     "output_type": "stream",
     "text": [
      "Percentiles: 25th=22.000, 75th=708.000, IQR=686.000\n",
      "Identified outliers: 6.162\n"
     ]
    }
   ],
   "source": [
    "from numpy import percentile\n",
    "for project in projects:\n",
    "    display(project)\n",
    "    bug_reports_data = bug_reports_all_data.loc[bug_reports_all_data['project']==project]\n",
    "    display(bug_reports_data['bug_fix_time'].describe())\n",
    "    q25, q75 = percentile(bug_reports_data['bug_fix_time'], 25), percentile(bug_reports_data['bug_fix_time'], 75)\n",
    "    iqr = q75 - q25\n",
    "    cut_off = iqr * 1.5\n",
    "    lower, upper = q25 - cut_off, q75 + cut_off\n",
    "    \n",
    "    print('Percentiles: 25th=%.3f, 75th=%.3f, IQR=%.3f' % (q25, q75, iqr))\n",
    "    outliers =  [x for x in bug_reports_data['bug_fix_time'] if x < lower or x > upper]\n",
    "    # identify outliers\n",
    "    outliers = [x for x in bug_reports_data['bug_fix_time'] if x < lower or x > upper]\n",
    "    print('Identified outliers: %.3f' % (len(outliers)/len(bug_reports_data)*100))"
   ]
  },
  {
   "cell_type": "code",
   "execution_count": 29,
   "metadata": {},
   "outputs": [
    {
     "data": {
      "text/html": [
       "<div>\n",
       "<style scoped>\n",
       "    .dataframe tbody tr th:only-of-type {\n",
       "        vertical-align: middle;\n",
       "    }\n",
       "\n",
       "    .dataframe tbody tr th {\n",
       "        vertical-align: top;\n",
       "    }\n",
       "\n",
       "    .dataframe thead tr th {\n",
       "        text-align: left;\n",
       "    }\n",
       "\n",
       "    .dataframe thead tr:last-of-type th {\n",
       "        text-align: right;\n",
       "    }\n",
       "</style>\n",
       "<table border=\"1\" class=\"dataframe\">\n",
       "  <thead>\n",
       "    <tr>\n",
       "      <th></th>\n",
       "      <th colspan=\"2\" halign=\"left\">creation_date</th>\n",
       "    </tr>\n",
       "    <tr>\n",
       "      <th></th>\n",
       "      <th>amin</th>\n",
       "      <th>amax</th>\n",
       "    </tr>\n",
       "    <tr>\n",
       "      <th>project</th>\n",
       "      <th></th>\n",
       "      <th></th>\n",
       "    </tr>\n",
       "  </thead>\n",
       "  <tbody>\n",
       "    <tr>\n",
       "      <th>eclipse</th>\n",
       "      <td>2001-10-10</td>\n",
       "      <td>2018-01-30</td>\n",
       "    </tr>\n",
       "    <tr>\n",
       "      <th>freedesktop</th>\n",
       "      <td>2003-02-05</td>\n",
       "      <td>2019-08-15</td>\n",
       "    </tr>\n",
       "    <tr>\n",
       "      <th>gcc</th>\n",
       "      <td>1999-08-26</td>\n",
       "      <td>2018-01-31</td>\n",
       "    </tr>\n",
       "    <tr>\n",
       "      <th>gnome</th>\n",
       "      <td>1999-01-02</td>\n",
       "      <td>2018-01-24</td>\n",
       "    </tr>\n",
       "    <tr>\n",
       "      <th>mozilla</th>\n",
       "      <td>1998-04-15</td>\n",
       "      <td>2014-04-22</td>\n",
       "    </tr>\n",
       "    <tr>\n",
       "      <th>winehq</th>\n",
       "      <td>2000-09-27</td>\n",
       "      <td>2018-04-17</td>\n",
       "    </tr>\n",
       "  </tbody>\n",
       "</table>\n",
       "</div>"
      ],
      "text/plain": [
       "            creation_date            \n",
       "                     amin        amax\n",
       "project                              \n",
       "eclipse        2001-10-10  2018-01-30\n",
       "freedesktop    2003-02-05  2019-08-15\n",
       "gcc            1999-08-26  2018-01-31\n",
       "gnome          1999-01-02  2018-01-24\n",
       "mozilla        1998-04-15  2014-04-22\n",
       "winehq         2000-09-27  2018-04-17"
      ]
     },
     "execution_count": 29,
     "metadata": {},
     "output_type": "execute_result"
    }
   ],
   "source": [
    "bug_reports_all_data.groupby('project').agg({'creation_date':[np.min, np.max]})"
   ]
  },
  {
   "cell_type": "markdown",
   "metadata": {},
   "source": [
    "### Step 4. Bug Fixing Time Distribution"
   ]
  },
  {
   "cell_type": "code",
   "execution_count": 30,
   "metadata": {},
   "outputs": [
    {
     "data": {
      "text/plain": [
       "<Figure size 640x480 with 0 Axes>"
      ]
     },
     "metadata": {},
     "output_type": "display_data"
    },
    {
     "data": {
      "image/png": "[encoded data removed]",
      "text/plain": [
       "<Figure size 800x500 with 1 Axes>"
      ]
     },
     "metadata": {},
     "output_type": "display_data"
    }
   ],
   "source": [
    "from matplotlib.ticker import (AutoMinorLocator, MultipleLocator)\n",
    "sns.despine(offset=10)\n",
    "sns.set_style(\"ticks\")\n",
    "threshold = 8000\n",
    "\n",
    "fig, ax = plt.subplots(figsize=(8, 5))\n",
    "df = bug_reports_all_data.loc[(bug_reports_all_data[\"bug_fix_time\"] < threshold)] \n",
    "g  = sns.boxplot(data=df, x=\"bug_fix_time\", y=\"project\", palette=\"Set2\", ax=ax, showfliers = True, flierprops = dict(markerfacecolor = '.10', markersize = 2))\n",
    "plt.ylabel(\"\", fontsize= 12)\n",
    "plt.xlabel(\"Bug-Fixing Time (days)\", fontsize= 12)\n",
    "plt.title(\"\", fontsize= 15)\n",
    "ax.yaxis.grid(True)\n",
    "ax.grid(which='major', color='#CCCCCC', linestyle='--')\n",
    "ax.grid(which='minor', color='#CCCCCC', linestyle=':')\n",
    "ax.xaxis.set_major_locator(MultipleLocator(1000))\n",
    "ax.xaxis.set_minor_locator(AutoMinorLocator(10))\n",
    "ax.set(xlim=( -10, threshold))\n",
    "sns.despine(trim=True, left=True)\n",
    "plt.savefig(f\"figures/rq2-bug-fix-time-distribution.pdf\", format=\"pdf\", dpi=600, bbox_inches='tight')"
   ]
  },
  {
   "cell_type": "markdown",
   "metadata": {},
   "source": [
    "### Step 5. How frequent are long-lived bugs?"
   ]
  },
  {
   "cell_type": "code",
   "execution_count": 31,
   "metadata": {},
   "outputs": [],
   "source": [
    "def plot_pyramid (data, column, filename):\n",
    "  \n",
    "    top_g = data.groupby(column)[column].agg(['count'])\n",
    "    top_s = top_g.sort_values('count', ascending=False)\n",
    "    top_n = data.loc[data[column].isin(top_s.index)].groupby(column)['long_lived?'].value_counts(normalize=True).unstack()\n",
    "    top_n.fillna(0, inplace=True)\n",
    "    \n",
    "    top_n.reset_index(inplace=True)\n",
    "    top_n = top_n.sort_values('long-lived', ascending=True)\n",
    "    \n",
    "    print(top_n)\n",
    "    \n",
    "    fig, axes = plt.subplots(figsize=(10, 10), ncols=2, sharey=False, gridspec_kw = {'wspace':0, 'hspace':0})\n",
    "\n",
    "    plt.rcParams[\"axes.grid.axis\"] =\"x\"\n",
    "    plt.rcParams[\"axes.grid\"] = True\n",
    "\n",
    "    sns.despine(offset=0.5)\n",
    "    sns.barplot(x=\"long-lived\", y=column, color=\"tab:red\", ax=axes[0], data=top_n)\n",
    "    sns.barplot(x=\"short-lived\", y=column,  color=\"tab:blue\", ax=axes[1], data=top_n)\n",
    "    \n",
    "    axes[0].set(xlim=(0, 1))\n",
    "    axes[0].invert_xaxis()\n",
    "    axes[0].spines['left'].set_visible(False)\n",
    "    axes[0].tick_params(axis=\"x\", labelsize=MEDIUM_SIZE+3)\n",
    "    axes[0].tick_params(axis=\"y\", labelsize=MEDIUM_SIZE+3)\n",
    "    axes[0].set_ylabel(column.title().replace(\"_\", \" \").replace(\"Category\", \"Level\"), fontsize=MEDIUM_SIZE+2)\n",
    "    axes[0].set_xlabel(\"Long-lived\", fontsize=MEDIUM_SIZE+3)    \n",
    "    axes[0].set_xticklabels(['{:,.0%}'.format(x) for x in axes[0].get_xticks()])\n",
    "    \n",
    "    axes[1].set(xlim=(0, 1))\n",
    "    axes[1].set_yticks([])\n",
    "    axes[1].set(ylabel=\"\")\n",
    "    axes[1].tick_params(axis=\"x\", labelsize=MEDIUM_SIZE+3)\n",
    "    axes[1].set_xlabel(\"Short-lived\", fontsize=MEDIUM_SIZE+3)\n",
    "    axes[1].set_xticklabels(['{:,.0%}'.format(x) for x in axes[1].get_xticks()])\n",
    "    \n",
    "    #sns.despine(offset=0.5)\n",
    "    s = axes[1].twinx()\n",
    "    labels = [i.get_text() for i in axes[0].get_yticklabels()]\n",
    "    labels_new = [top_s.loc[top_s.index==i, 'count'].values[0] for i in labels]\n",
    "    s.set_yticks(axes[0].get_yticks())\n",
    "    s.set_ylim(axes[0].get_ylim())\n",
    "    s.set_yticklabels(labels_new)\n",
    "    s.tick_params(axis=\"y\", labelsize=MEDIUM_SIZE+3)\n",
    "    \n",
    "    s.spines['top'].set_visible(False)\n",
    "    s.spines['bottom'].set_visible(False)\n",
    "    s.spines['right'].set_visible(False)\n",
    "    s.spines['left'].set_visible(False)\n",
    "        \n",
    "    #fig.suptitle(project, fontsize=BIGGER_SIZE)\n",
    "    plt.savefig(f\"figures/{filename}\", format=\"pdf\", dpi=600, bbox_inches='tight')\n",
    "\n",
    "def plot_bar (data, filename):\n",
    "    \n",
    "    top_g = data.groupby(\"project\")[\"project\"].agg(['count'])\n",
    "    top_s = top_g.sort_values('count', ascending=False)\n",
    "    top_n = data.loc[data['project'].isin(top_s.index)].groupby('project')['long_lived?'].value_counts(normalize=True).unstack()\n",
    "    \n",
    "    plt.figure(figsize=(20,20))\n",
    "    fig, axis = plt.subplots(figsize=(10, 10)) \n",
    "    \n",
    "    sns.despine(offset=5)\n",
    "    primary   = top_n.plot(kind='barh', stacked='True',  grid='True', color=[\"tab:red\", \"tab:blue\"], ax=axis)\n",
    "    secondary = primary.twinx()\n",
    "    \n",
    "    labels = [i.get_text() for i in primary.get_yticklabels()]\n",
    "    labels_new = [top_s.loc[top_s.index==i, 'count'].values[0] for i in labels]\n",
    "    \n",
    "    primary.set(xlim=(0, 1))\n",
    "    primary.set_xlabel('percentage', fontsize=MEDIUM_SIZE)\n",
    "    primary.set_ylabel('FLOSS Projects', fontsize=MEDIUM_SIZE) \n",
    "    primary.set_title(\"project\", fontsize=BIGGER_SIZE)\n",
    "    primary.tick_params(axis=\"y\", labelsize=MEDIUM_SIZE)\n",
    "    primary.tick_params(axis=\"x\", labelsize=MEDIUM_SIZE)\n",
    "    \n",
    "    secondary.set_yticks(primary.get_yticks())\n",
    "    secondary.set_ylim(primary.get_ylim())\n",
    "    secondary.set_yticklabels(labels_new)\n",
    "    secondary.tick_params(axis=\"y\", labelsize=MEDIUM_SIZE)\n",
    "    \n",
    "    plt.savefig(f\"figures/{filename}\", format=\"pdf\", dpi=600, bbox_inches='tight')\n"
   ]
  },
  {
   "cell_type": "code",
   "execution_count": 32,
   "metadata": {},
   "outputs": [
    {
     "name": "stdout",
     "output_type": "stream",
     "text": [
      "long_lived?      project  long-lived  short-lived\n",
      "0                eclipse    0.072604     0.927396\n",
      "1            freedesktop    0.136970     0.863030\n",
      "3                  gnome    0.145394     0.854606\n",
      "2                    gcc    0.164388     0.835612\n",
      "4                mozilla    0.180694     0.819306\n",
      "5                 winehq    0.407156     0.592844\n"
     ]
    },
    {
     "data": {
      "image/png": "[encoded data removed]",
      "text/plain": [
       "<Figure size 1000x1000 with 3 Axes>"
      ]
     },
     "metadata": {},
     "output_type": "display_data"
    }
   ],
   "source": [
    "plot_pyramid(bug_reports_all_data, 'project', 'rq2-all-percentage-of-long-lived-bugs.pdf')"
   ]
  },
  {
   "cell_type": "code",
   "execution_count": null,
   "metadata": {},
   "outputs": [],
   "source": []
  }
 ],
 "metadata": {
  "kernelspec": {
   "display_name": "Python 3",
   "language": "python",
   "name": "python3"
  },
  "language_info": {
   "codemirror_mode": {
    "name": "ipython",
    "version": 3
   },
   "file_extension": ".py",
   "mimetype": "text/x-python",
   "name": "python",
   "nbconvert_exporter": "python",
   "pygments_lexer": "ipython3",
   "version": "3.8.5"
  }
 },
 "nbformat": 4,
 "nbformat_minor": 2
}
