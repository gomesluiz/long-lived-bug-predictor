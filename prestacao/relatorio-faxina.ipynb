{
 "cells": [
  {
   "cell_type": "code",
   "execution_count": 140,
   "metadata": {},
   "outputs": [],
   "source": [
    "import pandas as pd"
   ]
  },
  {
   "cell_type": "code",
   "execution_count": 141,
   "metadata": {},
   "outputs": [
    {
     "name": "stdout",
     "output_type": "stream",
     "text": [
      "2011\n",
      "2012\n",
      "2013\n",
      "2014\n",
      "2015\n",
      "2016\n",
      "2017\n",
      "2018\n",
      "2019\n",
      "2020\n",
      "2021\n"
     ]
    }
   ],
   "source": [
    "anos=range(2011, 2022, 1)\n",
    "colunas=['Data ', 'Descrição', 'Valor']\n",
    "prestacoes = pd.DataFrame(columns=colunas)\n",
    "for ano in anos:\n",
    "    print(ano)\n",
    "    prestacao = pd.ExcelFile(f'data/{ano}-Prestacao-De-Contas-Condominio.xlsx')\n",
    "    planilhas = [s for s in prestacao.sheet_names if str(ano-2000) in s]\n",
    "    for planilha in planilhas:\n",
    "        data = prestacao.parse(planilha, skiprows=2, header=0, skipfooter=6, usecols=colunas)\n",
    "        if prestacoes.empty:\n",
    "            prestacoes = data\n",
    "        else:\n",
    "            prestacoes = pd.concat([prestacoes, data])\n",
    "            \n",
    "prestacoes.columns=['data', 'descricao', 'valor']\n"
   ]
  },
  {
   "cell_type": "code",
   "execution_count": 142,
   "metadata": {},
   "outputs": [
    {
     "data": {
      "text/plain": [
       "(1791, 3)"
      ]
     },
     "execution_count": 142,
     "metadata": {},
     "output_type": "execute_result"
    }
   ],
   "source": [
    "prestacoes.shape"
   ]
  },
  {
   "cell_type": "code",
   "execution_count": 143,
   "metadata": {},
   "outputs": [
    {
     "data": {
      "text/html": [
       "<div>\n",
       "<style scoped>\n",
       "    .dataframe tbody tr th:only-of-type {\n",
       "        vertical-align: middle;\n",
       "    }\n",
       "\n",
       "    .dataframe tbody tr th {\n",
       "        vertical-align: top;\n",
       "    }\n",
       "\n",
       "    .dataframe thead th {\n",
       "        text-align: right;\n",
       "    }\n",
       "</style>\n",
       "<table border=\"1\" class=\"dataframe\">\n",
       "  <thead>\n",
       "    <tr style=\"text-align: right;\">\n",
       "      <th></th>\n",
       "      <th>data</th>\n",
       "      <th>descricao</th>\n",
       "      <th>valor</th>\n",
       "    </tr>\n",
       "  </thead>\n",
       "  <tbody>\n",
       "    <tr>\n",
       "      <th>0</th>\n",
       "      <td>2011-08-01 00:00:00</td>\n",
       "      <td>Saldo Anterior</td>\n",
       "      <td>-311.52</td>\n",
       "    </tr>\n",
       "    <tr>\n",
       "      <th>1</th>\n",
       "      <td>2011-08-02 00:00:00</td>\n",
       "      <td>Faxina do Prédio</td>\n",
       "      <td>-30.00</td>\n",
       "    </tr>\n",
       "    <tr>\n",
       "      <th>2</th>\n",
       "      <td>2011-08-02 00:00:00</td>\n",
       "      <td>Condomínio Apartamento 4</td>\n",
       "      <td>90.00</td>\n",
       "    </tr>\n",
       "    <tr>\n",
       "      <th>3</th>\n",
       "      <td>2011-08-08 00:00:00</td>\n",
       "      <td>Cera para Chão</td>\n",
       "      <td>-6.77</td>\n",
       "    </tr>\n",
       "    <tr>\n",
       "      <th>4</th>\n",
       "      <td>2011-08-09 00:00:00</td>\n",
       "      <td>Faxina do Prédio</td>\n",
       "      <td>-30.00</td>\n",
       "    </tr>\n",
       "  </tbody>\n",
       "</table>\n",
       "</div>"
      ],
      "text/plain": [
       "                  data                 descricao   valor\n",
       "0  2011-08-01 00:00:00            Saldo Anterior -311.52\n",
       "1  2011-08-02 00:00:00          Faxina do Prédio  -30.00\n",
       "2  2011-08-02 00:00:00  Condomínio Apartamento 4   90.00\n",
       "3  2011-08-08 00:00:00            Cera para Chão   -6.77\n",
       "4  2011-08-09 00:00:00          Faxina do Prédio  -30.00"
      ]
     },
     "execution_count": 143,
     "metadata": {},
     "output_type": "execute_result"
    }
   ],
   "source": [
    "prestacoes.head()"
   ]
  },
  {
   "cell_type": "code",
   "execution_count": 144,
   "metadata": {},
   "outputs": [
    {
     "data": {
      "text/html": [
       "<div>\n",
       "<style scoped>\n",
       "    .dataframe tbody tr th:only-of-type {\n",
       "        vertical-align: middle;\n",
       "    }\n",
       "\n",
       "    .dataframe tbody tr th {\n",
       "        vertical-align: top;\n",
       "    }\n",
       "\n",
       "    .dataframe thead th {\n",
       "        text-align: right;\n",
       "    }\n",
       "</style>\n",
       "<table border=\"1\" class=\"dataframe\">\n",
       "  <thead>\n",
       "    <tr style=\"text-align: right;\">\n",
       "      <th></th>\n",
       "      <th>data</th>\n",
       "      <th>descricao</th>\n",
       "      <th>valor</th>\n",
       "    </tr>\n",
       "  </thead>\n",
       "  <tbody>\n",
       "    <tr>\n",
       "      <th>10</th>\n",
       "      <td>2021-02-17 00:00:00</td>\n",
       "      <td>Água e Esgoto - Referência 01/2021</td>\n",
       "      <td>-10.00</td>\n",
       "    </tr>\n",
       "    <tr>\n",
       "      <th>11</th>\n",
       "      <td>2021-02-17 00:00:00</td>\n",
       "      <td>Energia Elétrica – Referência  02/2021</td>\n",
       "      <td>-44.38</td>\n",
       "    </tr>\n",
       "    <tr>\n",
       "      <th>12</th>\n",
       "      <td>2021-02-21 00:00:00</td>\n",
       "      <td>Faxina do Prédio</td>\n",
       "      <td>-60.00</td>\n",
       "    </tr>\n",
       "    <tr>\n",
       "      <th>13</th>\n",
       "      <td>2021-02-28 00:00:00</td>\n",
       "      <td>Faxina do Prédio</td>\n",
       "      <td>-60.00</td>\n",
       "    </tr>\n",
       "    <tr>\n",
       "      <th>14</th>\n",
       "      <td>2021-02-28 00:00:00</td>\n",
       "      <td>Administração</td>\n",
       "      <td>-150.00</td>\n",
       "    </tr>\n",
       "  </tbody>\n",
       "</table>\n",
       "</div>"
      ],
      "text/plain": [
       "                   data                               descricao   valor\n",
       "10  2021-02-17 00:00:00      Água e Esgoto - Referência 01/2021  -10.00\n",
       "11  2021-02-17 00:00:00  Energia Elétrica – Referência  02/2021  -44.38\n",
       "12  2021-02-21 00:00:00                        Faxina do Prédio  -60.00\n",
       "13  2021-02-28 00:00:00                        Faxina do Prédio  -60.00\n",
       "14  2021-02-28 00:00:00                           Administração -150.00"
      ]
     },
     "execution_count": 144,
     "metadata": {},
     "output_type": "execute_result"
    }
   ],
   "source": [
    "prestacoes.tail()"
   ]
  },
  {
   "cell_type": "code",
   "execution_count": 145,
   "metadata": {},
   "outputs": [
    {
     "name": "stdout",
     "output_type": "stream",
     "text": [
      "<class 'pandas.core.frame.DataFrame'>\n",
      "Index: 1791 entries, 0 to 14\n",
      "Data columns (total 3 columns):\n",
      " #   Column     Non-Null Count  Dtype  \n",
      "---  ------     --------------  -----  \n",
      " 0   data       1791 non-null   object \n",
      " 1   descricao  1791 non-null   object \n",
      " 2   valor      1776 non-null   float64\n",
      "dtypes: float64(1), object(2)\n",
      "memory usage: 56.0+ KB\n"
     ]
    }
   ],
   "source": [
    "prestacoes.info()"
   ]
  },
  {
   "cell_type": "code",
   "execution_count": 146,
   "metadata": {},
   "outputs": [],
   "source": [
    "prestacoes=prestacoes.dropna()"
   ]
  },
  {
   "cell_type": "code",
   "execution_count": 147,
   "metadata": {},
   "outputs": [
    {
     "name": "stderr",
     "output_type": "stream",
     "text": [
      "/home/gomes/Apps/miniconda3/envs/bert-torch-1/lib/python3.7/site-packages/ipykernel_launcher.py:2: SettingWithCopyWarning: \n",
      "A value is trying to be set on a copy of a slice from a DataFrame.\n",
      "Try using .loc[row_indexer,col_indexer] = value instead\n",
      "\n",
      "See the caveats in the documentation: https://pandas.pydata.org/pandas-docs/stable/user_guide/indexing.html#returning-a-view-versus-a-copy\n",
      "  \n"
     ]
    }
   ],
   "source": [
    "faxinas=prestacoes.loc[prestacoes['descricao'].str.contains('Faxina')]\n",
    "faxinas['data']= pd.to_datetime(faxinas['data'])"
   ]
  },
  {
   "cell_type": "code",
   "execution_count": 150,
   "metadata": {},
   "outputs": [],
   "source": [
    "relatorio = faxinas.groupby(faxinas['data'].dt.year)['valor'].agg(['sum', 'mean', 'max', 'count'])"
   ]
  },
  {
   "cell_type": "code",
   "execution_count": 153,
   "metadata": {},
   "outputs": [
    {
     "data": {
      "text/html": [
       "<div>\n",
       "<style scoped>\n",
       "    .dataframe tbody tr th:only-of-type {\n",
       "        vertical-align: middle;\n",
       "    }\n",
       "\n",
       "    .dataframe tbody tr th {\n",
       "        vertical-align: top;\n",
       "    }\n",
       "\n",
       "    .dataframe thead th {\n",
       "        text-align: right;\n",
       "    }\n",
       "</style>\n",
       "<table border=\"1\" class=\"dataframe\">\n",
       "  <thead>\n",
       "    <tr style=\"text-align: right;\">\n",
       "      <th></th>\n",
       "      <th>sum</th>\n",
       "      <th>mean</th>\n",
       "      <th>max</th>\n",
       "      <th>count</th>\n",
       "    </tr>\n",
       "    <tr>\n",
       "      <th>data</th>\n",
       "      <th></th>\n",
       "      <th></th>\n",
       "      <th></th>\n",
       "      <th></th>\n",
       "    </tr>\n",
       "  </thead>\n",
       "  <tbody>\n",
       "    <tr>\n",
       "      <th>2011</th>\n",
       "      <td>-690.0</td>\n",
       "      <td>-30.000000</td>\n",
       "      <td>-30.0</td>\n",
       "      <td>23</td>\n",
       "    </tr>\n",
       "    <tr>\n",
       "      <th>2012</th>\n",
       "      <td>-1020.0</td>\n",
       "      <td>-30.000000</td>\n",
       "      <td>-30.0</td>\n",
       "      <td>34</td>\n",
       "    </tr>\n",
       "    <tr>\n",
       "      <th>2013</th>\n",
       "      <td>-1410.0</td>\n",
       "      <td>-30.000000</td>\n",
       "      <td>-30.0</td>\n",
       "      <td>47</td>\n",
       "    </tr>\n",
       "    <tr>\n",
       "      <th>2014</th>\n",
       "      <td>-1645.0</td>\n",
       "      <td>-35.000000</td>\n",
       "      <td>-35.0</td>\n",
       "      <td>47</td>\n",
       "    </tr>\n",
       "    <tr>\n",
       "      <th>2015</th>\n",
       "      <td>-1960.0</td>\n",
       "      <td>-35.000000</td>\n",
       "      <td>-35.0</td>\n",
       "      <td>56</td>\n",
       "    </tr>\n",
       "    <tr>\n",
       "      <th>2016</th>\n",
       "      <td>-1820.0</td>\n",
       "      <td>-35.000000</td>\n",
       "      <td>-35.0</td>\n",
       "      <td>52</td>\n",
       "    </tr>\n",
       "    <tr>\n",
       "      <th>2017</th>\n",
       "      <td>-1980.0</td>\n",
       "      <td>-38.823529</td>\n",
       "      <td>-35.0</td>\n",
       "      <td>51</td>\n",
       "    </tr>\n",
       "    <tr>\n",
       "      <th>2018</th>\n",
       "      <td>-2860.0</td>\n",
       "      <td>-55.000000</td>\n",
       "      <td>-50.0</td>\n",
       "      <td>52</td>\n",
       "    </tr>\n",
       "    <tr>\n",
       "      <th>2019</th>\n",
       "      <td>-2860.0</td>\n",
       "      <td>-55.000000</td>\n",
       "      <td>-50.0</td>\n",
       "      <td>52</td>\n",
       "    </tr>\n",
       "    <tr>\n",
       "      <th>2020</th>\n",
       "      <td>-3066.0</td>\n",
       "      <td>-58.961538</td>\n",
       "      <td>-6.0</td>\n",
       "      <td>52</td>\n",
       "    </tr>\n",
       "    <tr>\n",
       "      <th>2021</th>\n",
       "      <td>-480.0</td>\n",
       "      <td>-60.000000</td>\n",
       "      <td>-60.0</td>\n",
       "      <td>8</td>\n",
       "    </tr>\n",
       "  </tbody>\n",
       "</table>\n",
       "</div>"
      ],
      "text/plain": [
       "         sum       mean   max  count\n",
       "data                                \n",
       "2011  -690.0 -30.000000 -30.0     23\n",
       "2012 -1020.0 -30.000000 -30.0     34\n",
       "2013 -1410.0 -30.000000 -30.0     47\n",
       "2014 -1645.0 -35.000000 -35.0     47\n",
       "2015 -1960.0 -35.000000 -35.0     56\n",
       "2016 -1820.0 -35.000000 -35.0     52\n",
       "2017 -1980.0 -38.823529 -35.0     51\n",
       "2018 -2860.0 -55.000000 -50.0     52\n",
       "2019 -2860.0 -55.000000 -50.0     52\n",
       "2020 -3066.0 -58.961538  -6.0     52\n",
       "2021  -480.0 -60.000000 -60.0      8"
      ]
     },
     "execution_count": 153,
     "metadata": {},
     "output_type": "execute_result"
    }
   ],
   "source": [
    "relatorio"
   ]
  },
  {
   "cell_type": "code",
   "execution_count": 152,
   "metadata": {},
   "outputs": [],
   "source": [
    "relatorio.to_csv('relatório-de-faxinas.csv')"
   ]
  },
  {
   "cell_type": "code",
   "execution_count": null,
   "metadata": {},
   "outputs": [],
   "source": []
  }
 ],
 "metadata": {
  "kernelspec": {
   "display_name": "Python 3",
   "language": "python",
   "name": "python3"
  },
  "language_info": {
   "codemirror_mode": {
    "name": "ipython",
    "version": 3
   },
   "file_extension": ".py",
   "mimetype": "text/x-python",
   "name": "python",
   "nbconvert_exporter": "python",
   "pygments_lexer": "ipython3",
   "version": "3.7.9"
  }
 },
 "nbformat": 4,
 "nbformat_minor": 4
}
