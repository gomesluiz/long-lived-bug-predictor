{
 "cells": [
  {
   "cell_type": "code",
   "execution_count": 1,
   "metadata": {},
   "outputs": [
    {
     "name": "stderr",
     "output_type": "stream",
     "text": [
      "Using TensorFlow backend.\n"
     ]
    }
   ],
   "source": [
    "import nltk \n",
    "import pandas as pd\n",
    "import re\n",
    "import numpy as np\n",
    "import seaborn as sns\n",
    "\n",
    "from keras.preprocessing.text import Tokenizer\n",
    "from keras.preprocessing.sequence import pad_sequences\n",
    "from keras.models import Sequential\n",
    "from keras.layers import Dense, Embedding, LSTM, SpatialDropout1D\n",
    "from keras.callbacks import EarlyStopping\n",
    "from keras.layers import Dropout\n",
    "from keras.layers import Flatten\n",
    "\n",
    "from nltk.corpus import stopwords\n",
    "from nltk import word_tokenize\n",
    "\n",
    "import matplotlib.pyplot as plt\n",
    "\n",
    "from sklearn.model_selection import train_test_split\n",
    "from sklearn.metrics import confusion_matrix"
   ]
  },
  {
   "cell_type": "code",
   "execution_count": 2,
   "metadata": {},
   "outputs": [],
   "source": [
    "df = pd.read_csv('datasets/gcc_bug_report_data.csv', encoding='utf8', sep=',', parse_dates=True,low_memory=False)"
   ]
  },
  {
   "cell_type": "code",
   "execution_count": 3,
   "metadata": {},
   "outputs": [],
   "source": [
    "df['long_lived?']  = df['bug_fix_time'].apply(lambda t: 1 if t > 365 else 0)\n"
   ]
  },
  {
   "cell_type": "code",
   "execution_count": 4,
   "metadata": {},
   "outputs": [
    {
     "data": {
      "text/html": [
       "<div>\n",
       "<style scoped>\n",
       "    .dataframe tbody tr th:only-of-type {\n",
       "        vertical-align: middle;\n",
       "    }\n",
       "\n",
       "    .dataframe tbody tr th {\n",
       "        vertical-align: top;\n",
       "    }\n",
       "\n",
       "    .dataframe thead th {\n",
       "        text-align: right;\n",
       "    }\n",
       "</style>\n",
       "<table border=\"1\" class=\"dataframe\">\n",
       "  <thead>\n",
       "    <tr style=\"text-align: right;\">\n",
       "      <th></th>\n",
       "      <th>bug_id</th>\n",
       "      <th>creation_date</th>\n",
       "      <th>component_name</th>\n",
       "      <th>product_name</th>\n",
       "      <th>short_description</th>\n",
       "      <th>long_description</th>\n",
       "      <th>assignee_name</th>\n",
       "      <th>reporter_name</th>\n",
       "      <th>resolution_category</th>\n",
       "      <th>resolution_code</th>\n",
       "      <th>status_category</th>\n",
       "      <th>status_code</th>\n",
       "      <th>update_date</th>\n",
       "      <th>quantity_of_votes</th>\n",
       "      <th>quantity_of_comments</th>\n",
       "      <th>resolution_date</th>\n",
       "      <th>bug_fix_time</th>\n",
       "      <th>severity_category</th>\n",
       "      <th>severity_code</th>\n",
       "      <th>long_lived?</th>\n",
       "    </tr>\n",
       "  </thead>\n",
       "  <tbody>\n",
       "    <tr>\n",
       "      <th>0</th>\n",
       "      <td>CLASSPATH-26758</td>\n",
       "      <td>2006-03-19</td>\n",
       "      <td>awt</td>\n",
       "      <td>CLASSPATH</td>\n",
       "      <td>GdkFontPeer.getPostScriptFontName unimplemented</td>\n",
       "      <td>The Openstreetmap applet expects java.awt.Font...</td>\n",
       "      <td>unassigned</td>\n",
       "      <td>roman</td>\n",
       "      <td>fixed</td>\n",
       "      <td>1</td>\n",
       "      <td>resolved</td>\n",
       "      <td>4</td>\n",
       "      <td>2006-05-20</td>\n",
       "      <td>0</td>\n",
       "      <td>12</td>\n",
       "      <td>2006-05-20</td>\n",
       "      <td>62</td>\n",
       "      <td>normal</td>\n",
       "      <td>2</td>\n",
       "      <td>0</td>\n",
       "    </tr>\n",
       "    <tr>\n",
       "      <th>1</th>\n",
       "      <td>GCC-43111</td>\n",
       "      <td>2010-02-18</td>\n",
       "      <td>fortran</td>\n",
       "      <td>GCC</td>\n",
       "      <td>[4.5 Regression] No temporary produced for arr...</td>\n",
       "      <td>As reported by Joost VandeVondele this does no...</td>\n",
       "      <td>pault</td>\n",
       "      <td>pault</td>\n",
       "      <td>fixed</td>\n",
       "      <td>1</td>\n",
       "      <td>resolved</td>\n",
       "      <td>4</td>\n",
       "      <td>2010-02-20</td>\n",
       "      <td>0</td>\n",
       "      <td>6</td>\n",
       "      <td>2010-02-20</td>\n",
       "      <td>2</td>\n",
       "      <td>normal</td>\n",
       "      <td>2</td>\n",
       "      <td>0</td>\n",
       "    </tr>\n",
       "    <tr>\n",
       "      <th>2</th>\n",
       "      <td>GCC-43804</td>\n",
       "      <td>2010-04-19</td>\n",
       "      <td>target</td>\n",
       "      <td>GCC</td>\n",
       "      <td>[4.6 regression] ICE in reload_cse_simplify_op...</td>\n",
       "      <td>$ gcc/xgcc -Bgcc/ -O2 -fpic -S memusage.i \\nme...</td>\n",
       "      <td>rsandifo</td>\n",
       "      <td>schwab</td>\n",
       "      <td>fixed</td>\n",
       "      <td>1</td>\n",
       "      <td>resolved</td>\n",
       "      <td>4</td>\n",
       "      <td>2013-04-12</td>\n",
       "      <td>0</td>\n",
       "      <td>29</td>\n",
       "      <td>2013-04-12</td>\n",
       "      <td>1089</td>\n",
       "      <td>normal</td>\n",
       "      <td>2</td>\n",
       "      <td>1</td>\n",
       "    </tr>\n",
       "    <tr>\n",
       "      <th>3</th>\n",
       "      <td>GCC-33988</td>\n",
       "      <td>2007-11-03</td>\n",
       "      <td>ada</td>\n",
       "      <td>GCC</td>\n",
       "      <td>Warning when converting between C compatible p...</td>\n",
       "      <td>The RM95 B.3.1 contains: The type chars_ptr is...</td>\n",
       "      <td>unassigned</td>\n",
       "      <td>sam</td>\n",
       "      <td>fixed</td>\n",
       "      <td>1</td>\n",
       "      <td>resolved</td>\n",
       "      <td>4</td>\n",
       "      <td>2007-12-05</td>\n",
       "      <td>0</td>\n",
       "      <td>3</td>\n",
       "      <td>2007-11-14</td>\n",
       "      <td>11</td>\n",
       "      <td>normal</td>\n",
       "      <td>2</td>\n",
       "      <td>0</td>\n",
       "    </tr>\n",
       "    <tr>\n",
       "      <th>4</th>\n",
       "      <td>GCC-56270</td>\n",
       "      <td>2013-02-09</td>\n",
       "      <td>tree-optimization</td>\n",
       "      <td>GCC</td>\n",
       "      <td>[4.6 Regression] loop over array of struct flo...</td>\n",
       "      <td>Created attachment 29408\\nPreprocessed file co...</td>\n",
       "      <td>rguenth</td>\n",
       "      <td>4303843KIWEMNPULN</td>\n",
       "      <td>fixed</td>\n",
       "      <td>1</td>\n",
       "      <td>resolved</td>\n",
       "      <td>4</td>\n",
       "      <td>2013-04-12</td>\n",
       "      <td>0</td>\n",
       "      <td>11</td>\n",
       "      <td>2013-04-12</td>\n",
       "      <td>62</td>\n",
       "      <td>normal</td>\n",
       "      <td>2</td>\n",
       "      <td>0</td>\n",
       "    </tr>\n",
       "  </tbody>\n",
       "</table>\n",
       "</div>"
      ],
      "text/plain": [
       "            bug_id creation_date     component_name product_name  \\\n",
       "0  CLASSPATH-26758    2006-03-19                awt    CLASSPATH   \n",
       "1        GCC-43111    2010-02-18            fortran          GCC   \n",
       "2        GCC-43804    2010-04-19             target          GCC   \n",
       "3        GCC-33988    2007-11-03                ada          GCC   \n",
       "4        GCC-56270    2013-02-09  tree-optimization          GCC   \n",
       "\n",
       "                                   short_description  \\\n",
       "0    GdkFontPeer.getPostScriptFontName unimplemented   \n",
       "1  [4.5 Regression] No temporary produced for arr...   \n",
       "2  [4.6 regression] ICE in reload_cse_simplify_op...   \n",
       "3  Warning when converting between C compatible p...   \n",
       "4  [4.6 Regression] loop over array of struct flo...   \n",
       "\n",
       "                                    long_description assignee_name  \\\n",
       "0  The Openstreetmap applet expects java.awt.Font...    unassigned   \n",
       "1  As reported by Joost VandeVondele this does no...         pault   \n",
       "2  $ gcc/xgcc -Bgcc/ -O2 -fpic -S memusage.i \\nme...      rsandifo   \n",
       "3  The RM95 B.3.1 contains: The type chars_ptr is...    unassigned   \n",
       "4  Created attachment 29408\\nPreprocessed file co...       rguenth   \n",
       "\n",
       "       reporter_name resolution_category  resolution_code status_category  \\\n",
       "0              roman               fixed                1        resolved   \n",
       "1              pault               fixed                1        resolved   \n",
       "2             schwab               fixed                1        resolved   \n",
       "3                sam               fixed                1        resolved   \n",
       "4  4303843KIWEMNPULN               fixed                1        resolved   \n",
       "\n",
       "   status_code update_date  quantity_of_votes  quantity_of_comments  \\\n",
       "0            4  2006-05-20                  0                    12   \n",
       "1            4  2010-02-20                  0                     6   \n",
       "2            4  2013-04-12                  0                    29   \n",
       "3            4  2007-12-05                  0                     3   \n",
       "4            4  2013-04-12                  0                    11   \n",
       "\n",
       "  resolution_date  bug_fix_time severity_category  severity_code  long_lived?  \n",
       "0      2006-05-20            62            normal              2            0  \n",
       "1      2010-02-20             2            normal              2            0  \n",
       "2      2013-04-12          1089            normal              2            1  \n",
       "3      2007-11-14            11            normal              2            0  \n",
       "4      2013-04-12            62            normal              2            0  "
      ]
     },
     "execution_count": 4,
     "metadata": {},
     "output_type": "execute_result"
    }
   ],
   "source": [
    "df.head()"
   ]
  },
  {
   "cell_type": "code",
   "execution_count": 5,
   "metadata": {},
   "outputs": [
    {
     "data": {
      "text/plain": [
       "0    7085\n",
       "1    2915\n",
       "Name: long_lived?, dtype: int64"
      ]
     },
     "execution_count": 5,
     "metadata": {},
     "output_type": "execute_result"
    }
   ],
   "source": [
    "df['long_lived?'].value_counts()"
   ]
  },
  {
   "cell_type": "code",
   "execution_count": 6,
   "metadata": {},
   "outputs": [
    {
     "data": {
      "text/plain": [
       "<matplotlib.axes._subplots.AxesSubplot at 0x7fb1c1d08b50>"
      ]
     },
     "execution_count": 6,
     "metadata": {},
     "output_type": "execute_result"
    },
    {
     "data": {
      "image/png": "[encoded data removed]",
      "text/plain": [
       "<Figure size 432x288 with 1 Axes>"
      ]
     },
     "metadata": {
      "needs_background": "light"
     },
     "output_type": "display_data"
    }
   ],
   "source": [
    "df['long_lived?'].value_counts().sort_values(ascending=False).plot(kind='bar', title='')"
   ]
  },
  {
   "cell_type": "code",
   "execution_count": 7,
   "metadata": {},
   "outputs": [],
   "source": [
    "def print_plot(index):\n",
    "    example=df.loc[df.index == index][['long_description', 'long_lived?']].values[0]\n",
    "    if(len (example) > 0):\n",
    "        print(example[0])\n",
    "        print('long_lived?', example[1])"
   ]
  },
  {
   "cell_type": "code",
   "execution_count": 8,
   "metadata": {},
   "outputs": [
    {
     "name": "stdout",
     "output_type": "stream",
     "text": [
      "Compile testcase in attachment 23385 (bug 47786) with `gcc -v -flto -o /dev/null main.i foo.i':\n",
      "\n",
      "/usr/local/libexec/gcc/i686-pc-linux-gnu/4.6.0/cc1 -fpreprocessed main.i foo.i -quiet -dumpbase main.i -mtune=generic -march=pentiumpro -auxbase main -version -flto -o /tmp/cc3eBz9m.s\n",
      "\n",
      "I don't think it is an intended behavior.\n",
      "long_lived? 0\n"
     ]
    }
   ],
   "source": [
    "print_plot(100)"
   ]
  },
  {
   "cell_type": "code",
   "execution_count": 9,
   "metadata": {},
   "outputs": [],
   "source": [
    "df = df.reset_index(drop=True)\n",
    "REPLACE_BY_SPACE_RE = re.compile('[/(){}\\[\\]\\|@,;]')\n",
    "BAD_SYMBOLS_RE = re.compile('[^0-9a-z #+_]')\n",
    "STOPWORDS = set(stopwords.words('english'))\n",
    "\n",
    "def clean_text(text):\n",
    "    \"\"\"\n",
    "        text: a string\n",
    "        \n",
    "        return: modified initial string\n",
    "    \"\"\"\n",
    "    if text != text:\n",
    "        return ' '\n",
    "    \n",
    "    text = text.lower() \n",
    "    text = REPLACE_BY_SPACE_RE.sub(' ', text)\n",
    "    text = BAD_SYMBOLS_RE.sub('', text)\n",
    "    text = text.replace('x', '')\n",
    "    text = ' '.join(word for word in text.split() if word not in STOPWORDS) # remove stopwors from text\n",
    "    return text\n",
    "df['long_description'] = df['long_description'].apply(clean_text)\n",
    "df['long_description'] = df['long_description'].str.replace('\\d+', '')"
   ]
  },
  {
   "cell_type": "code",
   "execution_count": 10,
   "metadata": {},
   "outputs": [
    {
     "name": "stdout",
     "output_type": "stream",
     "text": [
      "compile testcase attachment  bug  gcc v flto dev null maini fooi usr local libeec gcc ipclinugnu  cc fpreprocessed maini fooi quiet dumpbase maini mtunegeneric marchpentiumpro aubase main version flto tmp ccebzmsi dont think intended behavior\n",
      "long_lived? 0\n"
     ]
    }
   ],
   "source": [
    "print_plot(100)"
   ]
  },
  {
   "cell_type": "code",
   "execution_count": 11,
   "metadata": {},
   "outputs": [
    {
     "name": "stdout",
     "output_type": "stream",
     "text": [
      "Found 148064 unique tokens.\n"
     ]
    }
   ],
   "source": [
    "MAX_NB_WORDS        = 50000\n",
    "MAX_SEQUENCE_LENGTH = 250\n",
    "EMBEDDING_DIM       = 100\n",
    "\n",
    "# Vectorize a text corpus, by turning each text into sequence of integers\n",
    "# (each integer being index of a token dictionary) or into a vector where\n",
    "# the coefficient for each token could be binary, based on word count, base \n",
    "# on tf-idf\n",
    "#\n",
    "# Arguments:\n",
    "#    \n",
    "#    num_words: the maximum number of words to keep, based on word frequency. \n",
    "#    filters  : a string where each element is a character that will be filtered from the texts.\n",
    "#    lower    : boolean. Whether to convert to texts to lowercase.\n",
    "tokenizer = Tokenizer(num_words=MAX_NB_WORDS\n",
    "                      , filters='!\"#$%&()*+,-./:;<=>?@[\\]^_`{|}~'\n",
    "                      , lower=True)\n",
    "\n",
    "\n",
    "# Updates internal vocabulary based on a list of texts. \n",
    "# This method creates the vocabulary index based on word frequency.\n",
    "tokenizer.fit_on_texts(df['long_description'].values)\n",
    "\n",
    "word_index = tokenizer.word_index\n",
    "print('Found %s unique tokens.' % len(word_index))\n",
    "\n",
    "\n"
   ]
  },
  {
   "cell_type": "code",
   "execution_count": 12,
   "metadata": {},
   "outputs": [
    {
     "name": "stdout",
     "output_type": "stream",
     "text": [
      "Shape of data tensor: (10000, 250)\n"
     ]
    }
   ],
   "source": [
    "# Transforms each text in texts to a sequence of integers.\n",
    "X = tokenizer.texts_to_sequences(df['long_description'].values)\n",
    "#X = tokenizer.texts_to_matrix(df['long_description'].values, mode=\"tfidf\")\n",
    "X = pad_sequences(X, maxlen=MAX_SEQUENCE_LENGTH)\n",
    "print('Shape of data tensor:', X.shape)"
   ]
  },
  {
   "cell_type": "code",
   "execution_count": 13,
   "metadata": {},
   "outputs": [
    {
     "name": "stdout",
     "output_type": "stream",
     "text": [
      "Shape of label tensor: (10000, 2)\n"
     ]
    }
   ],
   "source": [
    "Y = pd.get_dummies(df['long_lived?']).values\n",
    "print('Shape of label tensor:', Y.shape)"
   ]
  },
  {
   "cell_type": "code",
   "execution_count": 14,
   "metadata": {},
   "outputs": [
    {
     "name": "stdout",
     "output_type": "stream",
     "text": [
      "(9000, 250) (9000, 2)\n",
      "(1000, 250) (1000, 2)\n"
     ]
    }
   ],
   "source": [
    "# Split arrays or matrices into random train and test subsets\n",
    "# \n",
    "# Arguments:\n",
    "# \n",
    "#   *arrays   - allowed input are lists, numpy arrays, scipy-sparce matrices or pandas dataframes.\n",
    "#   test_size - if float, should be between 0.0 and 1.0 and represent the proportion of dataset to include\n",
    "#               in test split. If int, represents the absolute number of test samples. If None, the value \n",
    "#               is set to the complement of the train size. If train_size is also None, it will set to 0.25\n",
    "X_train, X_test, Y_train, Y_test = train_test_split(X, Y, test_size=0.10, random_state=42)\n",
    "print(X_train.shape, Y_train.shape)\n",
    "print(X_test.shape, Y_test.shape)"
   ]
  },
  {
   "cell_type": "code",
   "execution_count": 86,
   "metadata": {},
   "outputs": [
    {
     "name": "stdout",
     "output_type": "stream",
     "text": [
      "Model: \"sequential_18\"\n",
      "_________________________________________________________________\n",
      "Layer (type)                 Output Shape              Param #   \n",
      "=================================================================\n",
      "embedding_18 (Embedding)     (None, 250, 100)          5000000   \n",
      "_________________________________________________________________\n",
      "spatial_dropout1d_14 (Spatia (None, 250, 100)          0         \n",
      "_________________________________________________________________\n",
      "lstm_16 (LSTM)               (None, 100)               80400     \n",
      "_________________________________________________________________\n",
      "dense_30 (Dense)             (None, 2)                 202       \n",
      "=================================================================\n",
      "Total params: 5,080,602\n",
      "Trainable params: 5,080,602\n",
      "Non-trainable params: 0\n",
      "_________________________________________________________________\n"
     ]
    },
    {
     "ename": "ValueError",
     "evalue": "Error when checking target: expected dense_30 to have shape (1,) but got array with shape (2,)",
     "output_type": "error",
     "traceback": [
      "\u001b[0;31m---------------------------------------------------------------------------\u001b[0m",
      "\u001b[0;31mValueError\u001b[0m                                Traceback (most recent call last)",
      "\u001b[0;32m<ipython-input-86-feb415e0ee84>\u001b[0m in \u001b[0;36m<module>\u001b[0;34m\u001b[0m\n\u001b[1;32m     61\u001b[0m                        \u001b[0;34m,\u001b[0m \u001b[0mbatch_size\u001b[0m\u001b[0;34m=\u001b[0m\u001b[0;36m100\u001b[0m\u001b[0;34m\u001b[0m\u001b[0;34m\u001b[0m\u001b[0m\n\u001b[1;32m     62\u001b[0m                        \u001b[0;34m,\u001b[0m \u001b[0mvalidation_split\u001b[0m\u001b[0;34m=\u001b[0m\u001b[0;36m0.1\u001b[0m\u001b[0;34m\u001b[0m\u001b[0;34m\u001b[0m\u001b[0m\n\u001b[0;32m---> 63\u001b[0;31m                        , callbacks=[EarlyStopping(monitor='val_loss', patience=3, min_delta=0.0001)])\n\u001b[0m",
      "\u001b[0;32m~/apps/anaconda3/lib/python3.7/site-packages/keras/engine/training.py\u001b[0m in \u001b[0;36mfit\u001b[0;34m(self, x, y, batch_size, epochs, verbose, callbacks, validation_split, validation_data, shuffle, class_weight, sample_weight, initial_epoch, steps_per_epoch, validation_steps, validation_freq, max_queue_size, workers, use_multiprocessing, **kwargs)\u001b[0m\n\u001b[1;32m   1152\u001b[0m             \u001b[0msample_weight\u001b[0m\u001b[0;34m=\u001b[0m\u001b[0msample_weight\u001b[0m\u001b[0;34m,\u001b[0m\u001b[0;34m\u001b[0m\u001b[0;34m\u001b[0m\u001b[0m\n\u001b[1;32m   1153\u001b[0m             \u001b[0mclass_weight\u001b[0m\u001b[0;34m=\u001b[0m\u001b[0mclass_weight\u001b[0m\u001b[0;34m,\u001b[0m\u001b[0;34m\u001b[0m\u001b[0;34m\u001b[0m\u001b[0m\n\u001b[0;32m-> 1154\u001b[0;31m             batch_size=batch_size)\n\u001b[0m\u001b[1;32m   1155\u001b[0m \u001b[0;34m\u001b[0m\u001b[0m\n\u001b[1;32m   1156\u001b[0m         \u001b[0;31m# Prepare validation data.\u001b[0m\u001b[0;34m\u001b[0m\u001b[0;34m\u001b[0m\u001b[0;34m\u001b[0m\u001b[0m\n",
      "\u001b[0;32m~/apps/anaconda3/lib/python3.7/site-packages/keras/engine/training.py\u001b[0m in \u001b[0;36m_standardize_user_data\u001b[0;34m(self, x, y, sample_weight, class_weight, check_array_lengths, batch_size)\u001b[0m\n\u001b[1;32m    619\u001b[0m                 \u001b[0mfeed_output_shapes\u001b[0m\u001b[0;34m,\u001b[0m\u001b[0;34m\u001b[0m\u001b[0;34m\u001b[0m\u001b[0m\n\u001b[1;32m    620\u001b[0m                 \u001b[0mcheck_batch_axis\u001b[0m\u001b[0;34m=\u001b[0m\u001b[0;32mFalse\u001b[0m\u001b[0;34m,\u001b[0m  \u001b[0;31m# Don't enforce the batch size.\u001b[0m\u001b[0;34m\u001b[0m\u001b[0;34m\u001b[0m\u001b[0m\n\u001b[0;32m--> 621\u001b[0;31m                 exception_prefix='target')\n\u001b[0m\u001b[1;32m    622\u001b[0m \u001b[0;34m\u001b[0m\u001b[0m\n\u001b[1;32m    623\u001b[0m             \u001b[0;31m# Generate sample-wise weight values given the `sample_weight` and\u001b[0m\u001b[0;34m\u001b[0m\u001b[0;34m\u001b[0m\u001b[0;34m\u001b[0m\u001b[0m\n",
      "\u001b[0;32m~/apps/anaconda3/lib/python3.7/site-packages/keras/engine/training_utils.py\u001b[0m in \u001b[0;36mstandardize_input_data\u001b[0;34m(data, names, shapes, check_batch_axis, exception_prefix)\u001b[0m\n\u001b[1;32m    143\u001b[0m                             \u001b[0;34m': expected '\u001b[0m \u001b[0;34m+\u001b[0m \u001b[0mnames\u001b[0m\u001b[0;34m[\u001b[0m\u001b[0mi\u001b[0m\u001b[0;34m]\u001b[0m \u001b[0;34m+\u001b[0m \u001b[0;34m' to have shape '\u001b[0m \u001b[0;34m+\u001b[0m\u001b[0;34m\u001b[0m\u001b[0;34m\u001b[0m\u001b[0m\n\u001b[1;32m    144\u001b[0m                             \u001b[0mstr\u001b[0m\u001b[0;34m(\u001b[0m\u001b[0mshape\u001b[0m\u001b[0;34m)\u001b[0m \u001b[0;34m+\u001b[0m \u001b[0;34m' but got array with shape '\u001b[0m \u001b[0;34m+\u001b[0m\u001b[0;34m\u001b[0m\u001b[0;34m\u001b[0m\u001b[0m\n\u001b[0;32m--> 145\u001b[0;31m                             str(data_shape))\n\u001b[0m\u001b[1;32m    146\u001b[0m     \u001b[0;32mreturn\u001b[0m \u001b[0mdata\u001b[0m\u001b[0;34m\u001b[0m\u001b[0;34m\u001b[0m\u001b[0m\n\u001b[1;32m    147\u001b[0m \u001b[0;34m\u001b[0m\u001b[0m\n",
      "\u001b[0;31mValueError\u001b[0m: Error when checking target: expected dense_30 to have shape (1,) but got array with shape (2,)"
     ]
    }
   ],
   "source": [
    "from keras.layers import Dense, Dropout, Activation, Conv1D, GlobalMaxPooling1D\n",
    "# The Sequential is a linear stack of layers\n",
    "model = Sequential()\n",
    "\n",
    "# Input Layer:\n",
    "# ----------------------------------------------------------------------------\n",
    "# The model needs to know what input shape it should expect. For this reason, \n",
    "# the first layer in a Sequential model (and only the first, because following \n",
    "# layers can do automatic shape inference) needs to receive information about \n",
    "# its input shape.\n",
    "model.add(Embedding(input_dim=MAX_NB_WORDS, output_dim=EMBEDDING_DIM, input_length=X.shape[1]))\n",
    "#model.add(Flatten())\n",
    "# input_dim    : size of the vocabulary, i.e. maximum integer index + 1; \n",
    "# output_dim   : dimension of the dense embedding; \n",
    "# input_length : length of input sequences, when it is constant. This argument is required if you \n",
    "# are going to connect Flatten then Dense layers upstream (without it, the shape of dense outputs\n",
    "# cannot be computed)\n",
    "\n",
    "\n",
    "# Hidden Layer: 1\n",
    "# ----------------------------------------------------------------------------\n",
    "model.add(SpatialDropout1D(0.2))\n",
    "model.add(LSTM(100, dropout=0.2, recurrent_dropout=0.2))\n",
    "\n",
    "# Hidden Layer: 2\n",
    "# ----------------------------------------------------------------------------\n",
    "#model.add(Dense(64, activation='relu'))\n",
    "#model.add(Dropout(0.2))\n",
    "\n",
    "# Hidden Layer: 3\n",
    "# ----------------------------------------------------------------------------\n",
    "#model.add(Dense(64, activation='relu'))\n",
    "#model.add(Dropout(0.2))\n",
    "\n",
    "# Hidden Layer: 4\n",
    "# ----------------------------------------------------------------------------\n",
    "#model.add(Dense(64, activation='relu'))\n",
    "#model.add(Dropout(0.2))\n",
    "\n",
    "# Output Layer: \n",
    "# ----------------------------------------------------------------------------\n",
    "model.add(Dense(2,  activation='sigmoid'))\n",
    "\n",
    "#model.add(Dense(64,input_shape=(100,)))\n",
    "#model.add(Dropout(0.2))\n",
    "#model.add(Activation('relu'))\n",
    "#model.add(Dense(64))\n",
    "#model.add(Dropout(0.2))\n",
    "#model.add(Activation('relu'))\n",
    "#model.add(Dense(1))\n",
    "#odel.add(Activation('sigmoid'))\n",
    "\n",
    "model.summary()\n",
    "model.compile(loss='binary_crossentropy', optimizer='adam', metrics=['binary_accuracy'])\n",
    "\n",
    "epochs     = 5\n",
    "batch_size = 64\n",
    "history    = model.fit(X_train\n",
    "                       , Y_train\n",
    "                       , epochs=epochs\n",
    "                       , batch_size=100\n",
    "                       , validation_split=0.1\n",
    "                       , callbacks=[EarlyStopping(monitor='val_loss', patience=3, min_delta=0.0001)])"
   ]
  },
  {
   "cell_type": "code",
   "execution_count": 80,
   "metadata": {},
   "outputs": [
    {
     "name": "stdout",
     "output_type": "stream",
     "text": [
      "1000/1000 [==============================] - 10s 10ms/step\n",
      "Test set\n",
      "  Loss: 0.823\n",
      "  Accuracy: 0.729\n"
     ]
    }
   ],
   "source": [
    "accr = model.evaluate(X_test,Y_test)\n",
    "print('Test set\\n  Loss: {:0.3f}\\n  Accuracy: {:0.3f}'.format(accr[0],accr[1]))"
   ]
  },
  {
   "cell_type": "code",
   "execution_count": 81,
   "metadata": {},
   "outputs": [
    {
     "data": {
      "image/png": "[encoded data removed]",
      "text/plain": [
       "<Figure size 432x288 with 1 Axes>"
      ]
     },
     "metadata": {
      "needs_background": "light"
     },
     "output_type": "display_data"
    }
   ],
   "source": [
    "plt.title('Loss')\n",
    "plt.plot(history.history['loss'], label='train')\n",
    "plt.plot(history.history['val_loss'], label='test')\n",
    "plt.legend()\n",
    "plt.show()"
   ]
  },
  {
   "cell_type": "code",
   "execution_count": 82,
   "metadata": {},
   "outputs": [
    {
     "data": {
      "image/png": "[encoded data removed]",
      "text/plain": [
       "<Figure size 432x288 with 1 Axes>"
      ]
     },
     "metadata": {
      "needs_background": "light"
     },
     "output_type": "display_data"
    }
   ],
   "source": [
    "plt.title('Accuracy')\n",
    "plt.plot(history.history['binary_accuracy'], label='train')\n",
    "plt.plot(history.history['val_binary_accuracy'], label='test')\n",
    "plt.legend()\n",
    "plt.show();"
   ]
  },
  {
   "cell_type": "code",
   "execution_count": 83,
   "metadata": {},
   "outputs": [],
   "source": [
    "Y_pred = model.predict_classes(X_test)"
   ]
  },
  {
   "cell_type": "code",
   "execution_count": 84,
   "metadata": {},
   "outputs": [],
   "source": [
    "def plot_cm(labels, predictions, p=0.5):\n",
    "  cm = confusion_matrix(labels, predictions > p)\n",
    "  plt.figure(figsize=(5,5))\n",
    "  sns.heatmap(cm, annot=True, fmt=\"d\")\n",
    "  plt.title('Confusion matrix @{:.2f}'.format(p))\n",
    "  plt.ylabel('Actual label')\n",
    "  plt.xlabel('Predicted label')\n",
    "  ba = ((cm[1][1]/(cm[1][1]+cm[1][0])) + (cm[0][0]/(cm[0][0]+cm[0][1]))) / 2\n",
    "  print('Short-lived (True Negatives): ', cm[0][0])\n",
    "  print('Short-lived Missed (False Positives): ', cm[0][1])\n",
    "  print('Long-Lived (True Positives): ', cm[1][1])\n",
    "  print('Long-Lived Missed (False Negatives): ', cm[1][0])\n",
    "  print('Total Of Long-Liveds: ', np.sum(cm[1]))\n",
    "  print('Balanced Accuracy: ', ba)"
   ]
  },
  {
   "cell_type": "code",
   "execution_count": 85,
   "metadata": {},
   "outputs": [
    {
     "name": "stdout",
     "output_type": "stream",
     "text": [
      "Short-lived (True Negatives):  628\n",
      "Short-lived Missed (False Positives):  80\n",
      "Long-Lived (True Positives):  104\n",
      "Long-Lived Missed (False Negatives):  188\n",
      "Total Of Long-Liveds:  292\n",
      "Balanced Accuracy:  0.621585016639579\n"
     ]
    },
    {
     "data": {
      "image/png": "[encoded data removed]",
      "text/plain": [
       "<Figure size 360x360 with 2 Axes>"
      ]
     },
     "metadata": {
      "needs_background": "light"
     },
     "output_type": "display_data"
    }
   ],
   "source": [
    "plot_cm(Y_test.argmax(axis=1), Y_pred)"
   ]
  },
  {
   "cell_type": "code",
   "execution_count": 78,
   "metadata": {},
   "outputs": [
    {
     "name": "stdout",
     "output_type": "stream",
     "text": [
      "Classificações corretas = 720\n",
      "Acurácia = 0.72\n",
      "Acurácia normalizada = 0.6251838093026856\n"
     ]
    }
   ],
   "source": [
    "from sklearn.metrics import accuracy_score, recall_score\n",
    "\n",
    "print('Classificações corretas =', accuracy_score(Y_test.argmax(axis=1), Y_pred, normalize=False))\n",
    "print('Acurácia =', accuracy_score(Y_test.argmax(axis=1), Y_pred))\n",
    "print('Acurácia normalizada =', recall_score(Y_test.argmax(axis=1), Y_pred, average='macro'))"
   ]
  },
  {
   "cell_type": "code",
   "execution_count": null,
   "metadata": {},
   "outputs": [],
   "source": []
  },
  {
   "cell_type": "code",
   "execution_count": null,
   "metadata": {},
   "outputs": [],
   "source": []
  }
 ],
 "metadata": {
  "kernelspec": {
   "display_name": "Python 3",
   "language": "python",
   "name": "python3"
  },
  "language_info": {
   "codemirror_mode": {
    "name": "ipython",
    "version": 3
   },
   "file_extension": ".py",
   "mimetype": "text/x-python",
   "name": "python",
   "nbconvert_exporter": "python",
   "pygments_lexer": "ipython3",
   "version": "3.7.6"
  }
 },
 "nbformat": 4,
 "nbformat_minor": 2
}
